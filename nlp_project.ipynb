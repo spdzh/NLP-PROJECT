{
  "nbformat": 4,
  "nbformat_minor": 0,
  "metadata": {
    "colab": {
      "name": "nlp_project.ipynb",
      "provenance": [],
      "collapsed_sections": [],
      "authorship_tag": "ABX9TyOJKzPa0W7x7ez+jgMOZJlk",
      "include_colab_link": true
    },
    "kernelspec": {
      "name": "python3",
      "display_name": "Python 3"
    },
    "language_info": {
      "name": "python"
    }
  },
  "cells": [
    {
      "cell_type": "markdown",
      "metadata": {
        "id": "view-in-github",
        "colab_type": "text"
      },
      "source": [
        "<a href=\"https://colab.research.google.com/github/spdzh/NLP-PROJECT/blob/main/nlp_project.ipynb\" target=\"_parent\"><img src=\"https://colab.research.google.com/assets/colab-badge.svg\" alt=\"Open In Colab\"/></a>"
      ]
    },
    {
      "cell_type": "markdown",
      "metadata": {
        "id": "VLd3NxxsrgjV"
      },
      "source": [
        "# Libraries"
      ]
    },
    {
      "cell_type": "code",
      "metadata": {
        "id": "kCVgHkrpkX-e"
      },
      "source": [
        "import numpy as np\n",
        "import pandas as pd\n",
        "import nltk\n",
        "import matplotlib as plt"
      ],
      "execution_count": 1,
      "outputs": []
    },
    {
      "cell_type": "markdown",
      "metadata": {
        "id": "fqQxBGOsgbm1"
      },
      "source": [
        "# Data Prepration"
      ]
    },
    {
      "cell_type": "markdown",
      "metadata": {
        "id": "kMu7SLUkrpEW"
      },
      "source": [
        "Import data"
      ]
    },
    {
      "cell_type": "code",
      "metadata": {
        "id": "UfdKbI8LrfL2"
      },
      "source": [
        "datasetp=pd.read_csv(\"processedPositive.csv\")\n",
        "datasetn=pd.read_csv(\"processedNegative.csv\")"
      ],
      "execution_count": 2,
      "outputs": []
    },
    {
      "cell_type": "markdown",
      "metadata": {
        "id": "_hoBRWFh5c0w"
      },
      "source": [
        "Removing stop words"
      ]
    },
    {
      "cell_type": "code",
      "metadata": {
        "id": "qC_YSHkm5TvQ",
        "colab": {
          "base_uri": "https://localhost:8080/"
        },
        "outputId": "e2ad4830-f4ae-45d8-dbbc-6fc3765be344"
      },
      "source": [
        "\"\"\" \n",
        "All cleaning processes such as changing to lower case, split ssentences to words, \n",
        "removing punctuations and... are done in this section.\n",
        "\"\"\"\n",
        "from nltk.corpus import stopwords\n",
        "from nltk.tokenize import word_tokenize\n",
        "import string\n",
        "from nltk.stem.porter import PorterStemmer\n",
        "nltk.download('stopwords')\n",
        "nltk.download('punkt')\n",
        "stop_words= set(stopwords.words('english'))\n",
        "\n",
        "#For Negative Comment\n",
        "w=[]\n",
        "\n",
        "for j in range(1,len(datasetn.count())):\n",
        "    if (pd.isna(datasetn['%i'%j][0])==False):\n",
        "        review=datasetn['%i'%j][0]\n",
        "        review= review.lower()   # Lowercase\n",
        "        review= review.split()   # split to words\n",
        "        table = str.maketrans('', '', string.punctuation)   # Remove puncutations\n",
        "        review= [j.translate(table) for j in review]\n",
        "        review= [word for word in review if word.isalpha()]   # Remove empty words\n",
        "        review= [word for word in review if word not in stop_words]   # Remove stopwords\n",
        "        porter = PorterStemmer()   # word stemming\n",
        "        review = [porter.stem(word) for word in review]\n",
        "        review= ' '.join(review)  # Join the words and make the phrase\n",
        "        w.append(review)\n",
        "\n",
        "#For Positive Comments\n",
        "v=[]\n",
        "\n",
        "for j in range(1,len(datasetp.count())):\n",
        "    if (pd.isna(datasetp['%i'%j][0])==False):\n",
        "        review=datasetp['%i'%j][0]\n",
        "        review= review.lower()\n",
        "        review= review.split()\n",
        "        table = str.maketrans('', '', string.punctuation)\n",
        "        review= [j.translate(table) for j in review]\n",
        "        review= [word for word in review if word.isalpha()]\n",
        "        review= [word for word in review if word not in stop_words]\n",
        "        porter = PorterStemmer()\n",
        "        review = [porter.stem(word) for word in review]\n",
        "        review= ' '.join(review)\n",
        "        v.append(review)"
      ],
      "execution_count": 3,
      "outputs": [
        {
          "output_type": "stream",
          "name": "stdout",
          "text": [
            "[nltk_data] Downloading package stopwords to /root/nltk_data...\n",
            "[nltk_data]   Package stopwords is already up-to-date!\n",
            "[nltk_data] Downloading package punkt to /root/nltk_data...\n",
            "[nltk_data]   Package punkt is already up-to-date!\n"
          ]
        }
      ]
    },
    {
      "cell_type": "markdown",
      "metadata": {
        "id": "oMlbzTkvt2la"
      },
      "source": [
        "#**Bag of Words Model (Text Classification)**"
      ]
    },
    {
      "cell_type": "code",
      "metadata": {
        "colab": {
          "base_uri": "https://localhost:8080/"
        },
        "id": "pzcPBknkpu9J",
        "outputId": "1f3722d1-3bd2-4b40-dc0a-63ef0432b066"
      },
      "source": [
        "# Bag Of Words Model\n",
        "x=np.concatenate((w,v), axis=0)\n",
        "y=np.concatenate((np.ones(len(w)),np.zeros(len(v))),axis=0)\n",
        "from sklearn.feature_extraction.text import CountVectorizer\n",
        "cv= CountVectorizer(max_features=1500)\n",
        "X= cv.fit_transform(x).toarray()\n",
        "print(len(X[0]))"
      ],
      "execution_count": 4,
      "outputs": [
        {
          "output_type": "stream",
          "name": "stdout",
          "text": [
            "1500\n"
          ]
        }
      ]
    },
    {
      "cell_type": "markdown",
      "metadata": {
        "id": "W6ntbKz24NlG"
      },
      "source": [
        "Splitting data to train set and test set"
      ]
    },
    {
      "cell_type": "code",
      "metadata": {
        "id": "XcZoatgr4SRC"
      },
      "source": [
        "from sklearn.model_selection import train_test_split\n",
        "X_train, X_test, y_train, y_test= train_test_split(X,y, test_size= 0.2, random_state=0)"
      ],
      "execution_count": 5,
      "outputs": []
    },
    {
      "cell_type": "markdown",
      "metadata": {
        "id": "mve0NwgO5M4D"
      },
      "source": [
        "# Fitting Different Models"
      ]
    },
    {
      "cell_type": "markdown",
      "metadata": {
        "id": "pXpBiU8xOE__"
      },
      "source": [
        "1. Naive Bayes"
      ]
    },
    {
      "cell_type": "code",
      "metadata": {
        "colab": {
          "base_uri": "https://localhost:8080/"
        },
        "id": "Iiz_a6KS5P9n",
        "outputId": "53c73885-dbea-4dad-e6f8-855c9b5faf2a"
      },
      "source": [
        "from sklearn.naive_bayes import GaussianNB\n",
        "classifier_NB = GaussianNB()\n",
        "classifier_NB.fit(X_train, y_train)"
      ],
      "execution_count": 6,
      "outputs": [
        {
          "output_type": "execute_result",
          "data": {
            "text/plain": [
              "GaussianNB(priors=None, var_smoothing=1e-09)"
            ]
          },
          "metadata": {},
          "execution_count": 6
        }
      ]
    },
    {
      "cell_type": "markdown",
      "metadata": {
        "id": "TpROR7twS6aj"
      },
      "source": [
        "Prediction"
      ]
    },
    {
      "cell_type": "code",
      "metadata": {
        "id": "qTpSZqgO5r5z"
      },
      "source": [
        "y_pred_NB= classifier_NB.predict(X_test)\n",
        "print(np.concatenate((y_pred_NB.reshape(len(y_pred_NB),1), y_test.reshape(len(y_test),1)),1))"
      ],
      "execution_count": null,
      "outputs": []
    },
    {
      "cell_type": "markdown",
      "metadata": {
        "id": "f9u0ECC4OJj3"
      },
      "source": [
        "2. Decision Tree"
      ]
    },
    {
      "cell_type": "code",
      "metadata": {
        "colab": {
          "base_uri": "https://localhost:8080/"
        },
        "id": "imsNn-FYNJJ6",
        "outputId": "b383bb2d-8a7e-429d-b7b2-522ca9615941"
      },
      "source": [
        "from sklearn.tree import DecisionTreeClassifier\n",
        "classifier_DT = DecisionTreeClassifier(criterion= 'entropy', random_state=0)\n",
        "classifier_DT.fit(X_train,y_train)"
      ],
      "execution_count": 8,
      "outputs": [
        {
          "output_type": "execute_result",
          "data": {
            "text/plain": [
              "DecisionTreeClassifier(ccp_alpha=0.0, class_weight=None, criterion='entropy',\n",
              "                       max_depth=None, max_features=None, max_leaf_nodes=None,\n",
              "                       min_impurity_decrease=0.0, min_impurity_split=None,\n",
              "                       min_samples_leaf=1, min_samples_split=2,\n",
              "                       min_weight_fraction_leaf=0.0, presort='deprecated',\n",
              "                       random_state=0, splitter='best')"
            ]
          },
          "metadata": {},
          "execution_count": 8
        }
      ]
    },
    {
      "cell_type": "markdown",
      "metadata": {
        "id": "D4PBaSe4TKdm"
      },
      "source": [
        "Prediction"
      ]
    },
    {
      "cell_type": "code",
      "metadata": {
        "id": "YTy599atTD69"
      },
      "source": [
        "y_pred_DT= classifier_DT.predict(X_test)\n",
        "print(np.concatenate((y_pred_DT.reshape(len(y_pred_DT),1), y_test.reshape(len(y_test),1)),1))"
      ],
      "execution_count": null,
      "outputs": []
    },
    {
      "cell_type": "markdown",
      "metadata": {
        "id": "qhMs7kHXTNUr"
      },
      "source": [
        "3. Random Forest"
      ]
    },
    {
      "cell_type": "code",
      "metadata": {
        "colab": {
          "base_uri": "https://localhost:8080/"
        },
        "id": "psC8GLVaOOwL",
        "outputId": "44a40f1b-2c2a-4f0d-b4e5-40ff5f140150"
      },
      "source": [
        "from sklearn.ensemble import RandomForestClassifier\n",
        "classifier_RF = RandomForestClassifier(n_estimators = 30, criterion = 'entropy', random_state = 0)\n",
        "classifier_RF.fit(X_train, y_train) "
      ],
      "execution_count": 10,
      "outputs": [
        {
          "output_type": "execute_result",
          "data": {
            "text/plain": [
              "RandomForestClassifier(bootstrap=True, ccp_alpha=0.0, class_weight=None,\n",
              "                       criterion='entropy', max_depth=None, max_features='auto',\n",
              "                       max_leaf_nodes=None, max_samples=None,\n",
              "                       min_impurity_decrease=0.0, min_impurity_split=None,\n",
              "                       min_samples_leaf=1, min_samples_split=2,\n",
              "                       min_weight_fraction_leaf=0.0, n_estimators=30,\n",
              "                       n_jobs=None, oob_score=False, random_state=0, verbose=0,\n",
              "                       warm_start=False)"
            ]
          },
          "metadata": {},
          "execution_count": 10
        }
      ]
    },
    {
      "cell_type": "markdown",
      "metadata": {
        "id": "q_laBNMVTTCK"
      },
      "source": [
        "Prediction"
      ]
    },
    {
      "cell_type": "code",
      "metadata": {
        "id": "GmmtCypPSla8"
      },
      "source": [
        "y_pred_RF= classifier_RF.predict(X_test)\n",
        "print(np.concatenate((y_pred_RF.reshape(len(y_pred_RF),1), y_test.reshape(len(y_test),1)),1))"
      ],
      "execution_count": null,
      "outputs": []
    },
    {
      "cell_type": "markdown",
      "metadata": {
        "id": "zKScskmt5_tn"
      },
      "source": [
        "# Confusion Matrix and comparing factors (Accuracy, Precision, recall, F1 Score)"
      ]
    },
    {
      "cell_type": "markdown",
      "metadata": {
        "id": "6dMrWjdgPy8V"
      },
      "source": [
        "1. Naive Bayes"
      ]
    },
    {
      "cell_type": "code",
      "metadata": {
        "colab": {
          "base_uri": "https://localhost:8080/"
        },
        "id": "UDqXA9si6DDg",
        "outputId": "3f77ec8a-285c-42fd-bc69-7cd0f0ddbc9b"
      },
      "source": [
        "from sklearn.metrics import confusion_matrix, accuracy_score\n",
        "cm_NB= confusion_matrix(y_test, y_pred_NB)\n",
        "print(cm_NB)"
      ],
      "execution_count": 12,
      "outputs": [
        {
          "output_type": "stream",
          "name": "stdout",
          "text": [
            "[[187  40]\n",
            " [ 39 194]]\n"
          ]
        }
      ]
    },
    {
      "cell_type": "code",
      "metadata": {
        "colab": {
          "base_uri": "https://localhost:8080/"
        },
        "id": "daUiB2uLRR8F",
        "outputId": "560f5a63-2c5c-4423-8862-ed7f4b82b1f6"
      },
      "source": [
        "TP_NB = 187 #True Positives \n",
        "TN_NB = 194 #True Negatives \n",
        "FP_NB = 40 #False Positives \n",
        "FN_NB = 39 #False Negatives\n",
        "\n",
        "# Accuracy\n",
        "accuracy_NB= accuracy_score(y_test, y_pred_NB)\n",
        "print(accuracy_NB)\n",
        "\n",
        "# Precision\n",
        "Precision_NB = TP_NB / (TP_NB + FP_NB)\n",
        "print(Precision_NB)\n",
        "\n",
        "# Recall\n",
        "Recall_NB = TP_NB / (TP_NB + FN_NB)\n",
        "print(Recall_NB)\n",
        "\n",
        "# F1-Score\n",
        "F1_Score_NB = 2 * Precision_NB * Recall_NB / (Precision_NB + Recall_NB)\n",
        "print(F1_Score_NB)"
      ],
      "execution_count": 13,
      "outputs": [
        {
          "output_type": "stream",
          "name": "stdout",
          "text": [
            "0.8282608695652174\n",
            "0.8237885462555066\n",
            "0.827433628318584\n",
            "0.8256070640176602\n"
          ]
        }
      ]
    },
    {
      "cell_type": "markdown",
      "metadata": {
        "id": "Gxlyib4dTxGo"
      },
      "source": [
        "2. Decision Tree"
      ]
    },
    {
      "cell_type": "code",
      "metadata": {
        "colab": {
          "base_uri": "https://localhost:8080/"
        },
        "id": "no-OGZKzPvG7",
        "outputId": "4e228e91-3925-4bdc-b8b6-1bdf582638d9"
      },
      "source": [
        "from sklearn.metrics import confusion_matrix, accuracy_score\n",
        "cm_DT= confusion_matrix(y_test, y_pred_DT)\n",
        "print(cm_DT)"
      ],
      "execution_count": 14,
      "outputs": [
        {
          "output_type": "stream",
          "name": "stdout",
          "text": [
            "[[213  14]\n",
            " [ 29 204]]\n"
          ]
        }
      ]
    },
    {
      "cell_type": "code",
      "metadata": {
        "colab": {
          "base_uri": "https://localhost:8080/"
        },
        "id": "zkKLThIsPvd7",
        "outputId": "82104b6a-eef1-4ad0-c376-dfdd2071ccdb"
      },
      "source": [
        "TP_DT = 213 #True Positives \n",
        "TN_DT = 204 #True Negatives \n",
        "FP_DT = 14 #False Positives \n",
        "FN_DT = 29 #False Negatives\n",
        "\n",
        "# Accuracy\n",
        "accuracy_DT= accuracy_score(y_test, y_pred_DT)\n",
        "print(accuracy_DT)\n",
        "\n",
        "# Precision\n",
        "Precision_DT = TP_DT / (TP_DT + FP_DT)\n",
        "print(Precision_DT)\n",
        "\n",
        "# Recall\n",
        "Recall_DT = TP_DT / (TP_DT + FN_DT)\n",
        "print(Recall_DT)\n",
        "\n",
        "# F1-Score\n",
        "F1_Score_DT = 2 * Precision_DT * Recall_DT / (Precision_DT + Recall_DT)\n",
        "print(F1_Score_DT)"
      ],
      "execution_count": 15,
      "outputs": [
        {
          "output_type": "stream",
          "name": "stdout",
          "text": [
            "0.9065217391304348\n",
            "0.9383259911894273\n",
            "0.8801652892561983\n",
            "0.9083155650319829\n"
          ]
        }
      ]
    },
    {
      "cell_type": "markdown",
      "metadata": {
        "id": "fx4l7957U0jB"
      },
      "source": [
        "3. Random Forest"
      ]
    },
    {
      "cell_type": "code",
      "metadata": {
        "colab": {
          "base_uri": "https://localhost:8080/"
        },
        "id": "glSyieTIUuXC",
        "outputId": "e489a075-28af-481c-c549-4a8532f87715"
      },
      "source": [
        "from sklearn.metrics import confusion_matrix, accuracy_score\n",
        "cm_RF= confusion_matrix(y_test, y_pred_RF)\n",
        "print(cm_RF)"
      ],
      "execution_count": 16,
      "outputs": [
        {
          "output_type": "stream",
          "name": "stdout",
          "text": [
            "[[205  22]\n",
            " [ 19 214]]\n"
          ]
        }
      ]
    },
    {
      "cell_type": "code",
      "metadata": {
        "colab": {
          "base_uri": "https://localhost:8080/"
        },
        "id": "W66DoOTAVOeM",
        "outputId": "870880a2-b647-4643-95f8-6a43f7d77f7c"
      },
      "source": [
        "TP_RF = 205 #True Positives \n",
        "TN_RF = 214 #True Negatives \n",
        "FP_RF = 22 #False Positives \n",
        "FN_RF = 19 #False Negatives\n",
        "\n",
        "# Accuracy\n",
        "accuracy_RF= accuracy_score(y_test, y_pred_RF)\n",
        "print(accuracy_RF)\n",
        "\n",
        "# Precision\n",
        "Precision_RF = TP_RF / (TP_RF + FP_RF)\n",
        "print(Precision_RF)\n",
        "\n",
        "# Recall\n",
        "Recall_RF = TP_RF / (TP_RF + FN_RF)\n",
        "print(Recall_RF)\n",
        "\n",
        "# F1-Score\n",
        "F1_Score_RF = 2 * Precision_RF * Recall_RF / (Precision_RF + Recall_RF)\n",
        "print(F1_Score_RF)"
      ],
      "execution_count": 17,
      "outputs": [
        {
          "output_type": "stream",
          "name": "stdout",
          "text": [
            "0.9108695652173913\n",
            "0.9030837004405287\n",
            "0.9151785714285714\n",
            "0.9090909090909092\n"
          ]
        }
      ]
    },
    {
      "cell_type": "markdown",
      "metadata": {
        "id": "7l5fka3dW_Q3"
      },
      "source": [
        "# Comparison by Vizualizing\n",
        "\n",
        "\n"
      ]
    },
    {
      "cell_type": "code",
      "metadata": {
        "colab": {
          "base_uri": "https://localhost:8080/",
          "height": 297
        },
        "id": "XRdlV8tiYXfe",
        "outputId": "cba8372e-0996-4a36-978f-53318240e8d6"
      },
      "source": [
        "# data to plot\n",
        "n_groups = 4\n",
        "NB = (accuracy_NB, Precision_NB, Recall_NB, F1_Score_NB)\n",
        "DT = (accuracy_DT, Precision_DT, Recall_DT, F1_Score_DT)\n",
        "RF = (accuracy_RF, Precision_RF, Recall_RF, F1_Score_RF)\n",
        "\n",
        "\n",
        "# create plot\n",
        "fig, ax = plt.pyplot.subplots()\n",
        "index = np.arange(n_groups)\n",
        "bar_width = 0.25\n",
        "opacity = 0.8\n",
        "\n",
        "rects1 = plt.pyplot.bar(index, NB, bar_width,\n",
        "                    alpha=opacity,\n",
        "                    color='b',\n",
        "                    label='NB')\n",
        "\n",
        "rects2 = plt.pyplot.bar(index + bar_width, DT, bar_width,\n",
        "                    alpha=opacity,\n",
        "                    color='g',\n",
        "                    label='DT')\n",
        "\n",
        "rects3 = plt.pyplot.bar(index + 2*bar_width, RF, bar_width,\n",
        "                    alpha=opacity,\n",
        "                    color='r',\n",
        "                    label='RF')\n",
        "\n",
        "\n",
        "plt.pyplot.xlabel('Factors')\n",
        "plt.pyplot.ylabel('Scores')\n",
        "plt.pyplot.title('Scores by person')\n",
        "plt.pyplot.xticks(index + bar_width, ('Accuracy', 'Percision', 'Recall', 'F1_Score'))\n",
        "plt.pyplot.legend()\n",
        "\n",
        "plt.pyplot.tight_layout()\n",
        "plt.pyplot.show()"
      ],
      "execution_count": 18,
      "outputs": [
        {
          "output_type": "display_data",
          "data": {
            "image/png": "[encoded data removed]",
            "text/plain": [
              "<Figure size 432x288 with 1 Axes>"
            ]
          },
          "metadata": {
            "needs_background": "light"
          }
        }
      ]
    },
    {
      "cell_type": "markdown",
      "metadata": {
        "id": "cXEUGLlsgq9C"
      },
      "source": [
        "# **Latent Dirichlet Allocation (LDA) (Topic Modeling)**"
      ]
    },
    {
      "cell_type": "markdown",
      "metadata": {
        "id": "PAAw4qObwqW-"
      },
      "source": [
        "Data prepration"
      ]
    },
    {
      "cell_type": "code",
      "metadata": {
        "id": "qopVohLxhUgQ"
      },
      "source": [
        "\"\"\" \n",
        "All cleaning processes such as changing to lower case, split ssentences to words, \n",
        "removing punctuations and... are done in this section.\n",
        "\"\"\"\n",
        "from nltk.corpus import stopwords\n",
        "from nltk.tokenize import word_tokenize\n",
        "import string\n",
        "from nltk.stem.porter import PorterStemmer\n",
        "nltk.download('stopwords')\n",
        "nltk.download('punkt')\n",
        "stop_words= set(stopwords.words('english'))\n",
        "\n",
        "#For Negative Comment\n",
        "w=[]\n",
        "\n",
        "for j in range(1,len(datasetn.count())):\n",
        "    if (pd.isna(datasetn['%i'%j][0])==False):\n",
        "        review=datasetn['%i'%j][0]\n",
        "        review= review.lower()   # Lowercase\n",
        "        review= review.split()   # split to words\n",
        "        table = str.maketrans('', '', string.punctuation)   # Remove puncutations\n",
        "        review= [j.translate(table) for j in review]\n",
        "        review= [word for word in review if word.isalpha()]   # Remove empty words\n",
        "        review= ' '.join(review)  # Join the words and make the phrase\n",
        "        w.append(review)\n",
        "\n",
        "#For Positive Comments\n",
        "v=[]\n",
        "\n",
        "for j in range(1,len(datasetp.count())):\n",
        "    if (pd.isna(datasetp['%i'%j][0])==False):\n",
        "        review=datasetp['%i'%j][0]\n",
        "        review= review.lower()\n",
        "        review= review.split()\n",
        "        table = str.maketrans('', '', string.punctuation)\n",
        "        review= [j.translate(table) for j in review]\n",
        "        review= [word for word in review if word.isalpha()]\n",
        "        review= ' '.join(review)\n",
        "        v.append(review)\n",
        "\n",
        "x=np.concatenate((w,v), axis=0)\n",
        "x=','.join(x)\n",
        "print(x)"
      ],
      "execution_count": null,
      "outputs": []
    },
    {
      "cell_type": "markdown",
      "metadata": {
        "id": "e97hLbAGwvUt"
      },
      "source": [
        "Word Cloud"
      ]
    },
    {
      "cell_type": "code",
      "metadata": {
        "colab": {
          "base_uri": "https://localhost:8080/",
          "height": 217
        },
        "id": "Pr5mJ4oWjsK3",
        "outputId": "e14deafe-c1fc-44a1-cf32-90b7790d1f85"
      },
      "source": [
        "# Import the wordcloud library.\n",
        "from wordcloud import WordCloud\n",
        "\n",
        "# Creat a WordCloud object\n",
        "wordcloud = WordCloud(background_color=\"white\", max_words=3000, contour_width=3, contour_color='steelred')\n",
        "\n",
        "# Generate a word cloud\n",
        "wordcloud.generate(x)\n",
        "\n",
        "# Visualize the generated word cloud\n",
        "wordcloud.to_image()"
      ],
      "execution_count": 20,
      "outputs": [
        {
          "output_type": "execute_result",
          "data": {
            "image/png": "[encoded data removed]",
            "text/plain": [
              "<PIL.Image.Image image mode=RGB size=400x200 at 0x7FE98A44EED0>"
            ]
          },
          "metadata": {},
          "execution_count": 20
        }
      ]
    },
    {
      "cell_type": "markdown",
      "metadata": {
        "id": "lmqcPvhtLUiK"
      },
      "source": [
        "Preparing data for LDA"
      ]
    },
    {
      "cell_type": "code",
      "metadata": {
        "id": "GrXe0_M-JNCq",
        "colab": {
          "base_uri": "https://localhost:8080/"
        },
        "outputId": "c1231a5b-7f28-49bd-b6c0-6fa835d43aca"
      },
      "source": [
        "\"\"\" \n",
        "All cleaning processes such as changing to lower case, split ssentences to words, \n",
        "removing punctuations and... are done in this section.\n",
        "\"\"\"\n",
        "from nltk.corpus import stopwords\n",
        "from nltk.tokenize import word_tokenize\n",
        "import string\n",
        "from nltk.stem.porter import PorterStemmer\n",
        "nltk.download('stopwords')\n",
        "nltk.download('punkt')\n",
        "stop_words= set(stopwords.words('english'))\n",
        "\n",
        "#For Negative Comment\n",
        "w=[]\n",
        "\n",
        "for j in range(1,len(datasetn.count())):\n",
        "    if (pd.isna(datasetn['%i'%j][0])==False):\n",
        "        review=datasetn['%i'%j][0]\n",
        "        review= review.lower()   # Lowercase\n",
        "        review= review.split()   # split to words\n",
        "        table = str.maketrans('', '', string.punctuation)   # Remove puncutations\n",
        "        review= [j.translate(table) for j in review]\n",
        "        review= [word for word in review if word.isalpha()]   # Remove empty words\n",
        "        w.append(review)\n",
        "\n",
        "#For Positive Comments\n",
        "v=[]\n",
        "\n",
        "for j in range(1,len(datasetp.count())):\n",
        "    if (pd.isna(datasetp['%i'%j][0])==False):\n",
        "        review=datasetp['%i'%j][0]\n",
        "        review= review.lower()\n",
        "        review= review.split()\n",
        "        table = str.maketrans('', '', string.punctuation)\n",
        "        review= [j.translate(table) for j in review]\n",
        "        review= [word for word in review if word.isalpha()]\n",
        "        v.append(review)\n",
        "\n",
        "x=np.concatenate((w,v), axis=0)\n",
        "x"
      ],
      "execution_count": 21,
      "outputs": [
        {
          "output_type": "stream",
          "name": "stdout",
          "text": [
            "[nltk_data] Downloading package stopwords to /root/nltk_data...\n",
            "[nltk_data]   Package stopwords is already up-to-date!\n",
            "[nltk_data] Downloading package punkt to /root/nltk_data...\n",
            "[nltk_data]   Package punkt is already up-to-date!\n"
          ]
        },
        {
          "output_type": "stream",
          "name": "stderr",
          "text": [
            "<string>:6: VisibleDeprecationWarning: Creating an ndarray from ragged nested sequences (which is a list-or-tuple of lists-or-tuples-or ndarrays with different lengths or shapes) is deprecated. If you meant to do this, you must specify 'dtype=object' when creating the ndarray.\n"
          ]
        },
        {
          "output_type": "execute_result",
          "data": {
            "text/plain": [
              "array([list(['how', 'unhappy', 'some', 'dogs', 'like', 'it', 'though']),\n",
              "       list(['talking', 'to', 'my', 'over', 'driver', 'about', 'where', 'im', 'goinghe', 'said', 'hed', 'love', 'to', 'go', 'to', 'new', 'york', 'too', 'but', 'since', 'trump', 'its', 'probably', 'not']),\n",
              "       list(['does', 'anybody', 'know', 'if', 'the', 'rands', 'likely', 'to', 'fall', 'against', 'the', 'dollar', 'i', 'got', 'some', 'money', 'i', 'need', 'to', 'change', 'into', 'r', 'but', 'it', 'keeps', 'getting', 'stronger', 'unhappy']),\n",
              "       ..., list(['name']),\n",
              "       list(['ngam', 'to', 'weeks', 'left', 'for', 'cadet', 'pilot', 'exam', 'crying', 'with', 'joy']),\n",
              "       list(['great', 'youre', 'welcome', 'josh', 'happy', 'adam'])],\n",
              "      dtype=object)"
            ]
          },
          "metadata": {},
          "execution_count": 21
        }
      ]
    },
    {
      "cell_type": "code",
      "metadata": {
        "colab": {
          "base_uri": "https://localhost:8080/"
        },
        "id": "-Rla4wq34ylY",
        "outputId": "355b10ef-8737-4f0e-9551-94fd0e17322f"
      },
      "source": [
        "\"\"\" Change to dict and corpus \"\"\"\n",
        "\n",
        "import gensim.corpora as corpora\n",
        "\n",
        "# Create dictionary\n",
        "word2dic = corpora.Dictionary(x)\n",
        "\n",
        "# Creat Corpus\n",
        "corpus = [word2dic.doc2bow(text) for text in x]\n",
        "\n",
        "print(corpus[10])"
      ],
      "execution_count": 22,
      "outputs": [
        {
          "output_type": "stream",
          "name": "stdout",
          "text": [
            "[(6, 1), (80, 1), (106, 1), (107, 1), (108, 1), (109, 1), (110, 1)]\n"
          ]
        }
      ]
    },
    {
      "cell_type": "markdown",
      "metadata": {
        "id": "lmxgo7uuLklI"
      },
      "source": [
        "LDA Model Training"
      ]
    },
    {
      "cell_type": "code",
      "metadata": {
        "id": "lZ3XOa8KLkOw",
        "colab": {
          "base_uri": "https://localhost:8080/"
        },
        "outputId": "1aaf3250-5a28-45d9-9ed8-f76f3909f485"
      },
      "source": [
        "import gensim\n",
        "from pprint import pprint \n",
        "\n",
        "# Number of Topics\n",
        "topics_num = 5\n",
        "\n",
        "#Build LDA model\n",
        "lda_model = gensim.models.LdaMulticore(corpus = corpus,\n",
        "                                       id2word=word2dic,\n",
        "                                       num_topics= topics_num)\n",
        "\n",
        "# Print the keywords in the 5 topics\n",
        "pprint(lda_model.print_topics())\n",
        "doc_lda = lda_model[corpus]"
      ],
      "execution_count": 23,
      "outputs": [
        {
          "output_type": "stream",
          "name": "stdout",
          "text": [
            "[(0,\n",
            "  '0.023*\"the\" + 0.022*\"i\" + 0.015*\"to\" + 0.014*\"happy\" + 0.014*\"in\" + '\n",
            "  '0.013*\"is\" + 0.013*\"with\" + 0.012*\"crying\" + 0.011*\"joy\" + 0.011*\"of\"'),\n",
            " (1,\n",
            "  '0.039*\"happy\" + 0.029*\"for\" + 0.026*\"i\" + 0.024*\"you\" + 0.023*\"a\" + '\n",
            "  '0.023*\"to\" + 0.022*\"this\" + 0.020*\"the\" + 0.016*\"much\" + 0.014*\"thanks\"'),\n",
            " (2,\n",
            "  '0.085*\"happy\" + 0.033*\"the\" + 0.033*\"to\" + 0.031*\"for\" + 0.028*\"a\" + '\n",
            "  '0.025*\"thanks\" + 0.022*\"have\" + 0.021*\"follow\" + 0.019*\"great\" + '\n",
            "  '0.018*\"recent\"'),\n",
            " (3,\n",
            "  '0.054*\"happy\" + 0.026*\"the\" + 0.025*\"a\" + 0.021*\"to\" + 0.012*\"for\" + '\n",
            "  '0.012*\"have\" + 0.012*\"it\" + 0.010*\"im\" + 0.010*\"unhappy\" + 0.009*\"great\"'),\n",
            " (4,\n",
            "  '0.029*\"happy\" + 0.024*\"i\" + 0.022*\"to\" + 0.020*\"d\" + 0.018*\"unhappy\" + '\n",
            "  '0.013*\"this\" + 0.012*\"for\" + 0.010*\"the\" + 0.010*\"a\" + 0.009*\"as\"')]\n"
          ]
        }
      ]
    },
    {
      "cell_type": "markdown",
      "metadata": {
        "id": "nJFCKHQegxqS"
      },
      "source": [
        "Visualization"
      ]
    },
    {
      "cell_type": "code",
      "metadata": {
        "id": "N4NQUOToNhm7",
        "colab": {
          "base_uri": "https://localhost:8080/",
          "height": 956
        },
        "outputId": "30e8cdcb-fdb0-4028-c4ef-8dd551f9cd36"
      },
      "source": [
        "\"\"\" Visualizing 5 topics \"\"\"\n",
        "\n",
        "###!pip install pyLDAvis\n",
        "import pyLDAvis\n",
        "import pyLDAvis.gensim_models as gensimvis\n",
        "pyLDAvis.enable_notebook()\n",
        "import pickle \n",
        "import pyLDAvis\n",
        "\n",
        "vis = gensimvis.prepare(lda_model, corpus, word2dic)\n",
        "vis"
      ],
      "execution_count": 24,
      "outputs": [
        {
          "output_type": "stream",
          "name": "stderr",
          "text": [
            "/usr/local/lib/python3.7/dist-packages/past/types/oldstr.py:5: DeprecationWarning: Using or importing the ABCs from 'collections' instead of from 'collections.abc' is deprecated since Python 3.3,and in 3.9 it will stop working\n",
            "  from collections import Iterable\n",
            "/usr/local/lib/python3.7/dist-packages/pyLDAvis/_prepare.py:247: FutureWarning: In a future version of pandas all arguments of DataFrame.drop except for the argument 'labels' will be keyword-only\n",
            "  by='saliency', ascending=False).head(R).drop('saliency', 1)\n"
          ]
        },
        {
          "output_type": "execute_result",
          "data": {
            "text/html": [
              "\n",
              "<link rel=\"stylesheet\" type=\"text/css\" href=\"https://cdn.jsdelivr.net/gh/bmabey/pyLDAvis@3.3.1/pyLDAvis/js/ldavis.v1.0.0.css\">\n",
              "\n",
              "\n",
              "<div id=\"ldavis_el600140640872348368396369339\"></div>\n",
              "<script type=\"text/javascript\">\n",
              "\n",
              "var ldavis_el600140640872348368396369339_data = {\"mdsDat\": {\"x\": [0.011809354302715085, 0.10076743992746094, 0.03806767411484492, -0.13289427301694498, -0.017750195328075948], \"y\": [-0.08277973873651202, -0.03227764687966379, 0.09079265368639264, -0.010461238734381815, 0.03472597066416496], \"topics\": [1, 2, 3, 4, 5], \"cluster\": [1, 1, 1, 1, 1], \"Freq\": [33.895199766761415, 20.459715134689475, 15.924414145158911, 15.166221405404738, 14.554449547985469]}, \"tinfo\": {\"Term\": [\"happy\", \"thanks\", \"d\", \"crying\", \"connect\", \"joy\", \"thursday\", \"recent\", \"a\", \"much\", \"who\", \"great\", \"have\", \"follow\", \"the\", \"appreciated\", \"as\", \"in\", \"we\", \"is\", \"i\", \"hellooo\", \"im\", \"with\", \"unhappy\", \"still\", \"dont\", \"to\", \"me\", \"your\", \"trick\", \"minutes\", \"fl\", \"player\", \"iris\", \"tune\", \"appreciated\", \"appreciate\", \"kind\", \"taehyung\", \"give\", \"head\", \"information\", \"kills\", \"inspired\", \"magical\", \"exam\", \"relax\", \"superstar\", \"happiness\", \"teaser\", \"full\", \"saying\", \"much\", \"arms\", \"ten\", \"safe\", \"keem\", \"blessed\", \"roshe\", \"her\", \"seeing\", \"us\", \"mclisse\", \"would\", \"today\", \"buddy\", \"sharing\", \"be\", \"after\", \"you\", \"instant\", \"words\", \"this\", \"these\", \"want\", \"for\", \"that\", \"smile\", \"my\", \"i\", \"of\", \"photo\", \"a\", \"so\", \"happy\", \"to\", \"thanks\", \"love\", \"by\", \"the\", \"can\", \"unhappy\", \"great\", \"it\", \"and\", \"with\", \"follow\", \"recent\", \"in\", \"have\", \"on\", \"unfollowers\", \"via\", \"follower\", \"pancakes\", \"adhatter\", \"xbox\", \"xboxmadhatter\", \"arrived\", \"stats\", \"client\", \"ffsits\", \"freelegitfree\", \"quickerbe\", \"avi\", \"articles\", \"syrup\", \"protective\", \"snapping\", \"trust\", \"maple\", \"december\", \"ladylike\", \"massive\", \"commenting\", \"hairs\", \"hobby\", \"bucks\", \"maja\", \"difference\", \"salvador\", \"sa\", \"everyone\", \"sure\", \"connect\", \"yeah\", \"thursday\", \"five\", \"follow\", \"recent\", \"happy\", \"have\", \"thanks\", \"great\", \"your\", \"made\", \"hellooo\", \"the\", \"for\", \"to\", \"a\", \"am\", \"get\", \"new\", \"me\", \"you\", \"and\", \"is\", \"day\", \"no\", \"i\", \"in\", \"with\", \"thank\", \"not\", \"its\", \"but\", \"just\", \"unhappy\", \"it\", \"my\", \"this\", \"bluegreen\", \"co\", \"blocks\", \"wipe\", \"witness\", \"jinyoung\", \"jaebum\", \"son\", \"fm\", \"p\", \"groovy\", \"o\", \"dual\", \"sorted\", \"hdmi\", \"displayport\", \"setup\", \"batch\", \"screens\", \"prettier\", \"palestine\", \"petronas\", \"fixes\", \"monger\", \"billy\", \"scored\", \"pinched\", \"whattay\", \"isnt\", \"seminar\", \"mate\", \"im\", \"last\", \"days\", \"we\", \"shit\", \"happy\", \"a\", \"the\", \"himself\", \"cake\", \"released\", \"hellooo\", \"youre\", \"it\", \"too\", \"back\", \"to\", \"on\", \"have\", \"not\", \"just\", \"unhappy\", \"great\", \"d\", \"name\", \"and\", \"about\", \"they\", \"for\", \"get\", \"thursday\", \"your\", \"this\", \"of\", \"want\", \"thanks\", \"i\", \"that\", \"in\", \"but\", \"smile\", \"follow\", \"exams\", \"luckily\", \"studied\", \"delayed\", \"pmln\", \"ministers\", \"beginning\", \"watching\", \"minor\", \"thisfollow\", \"trainfollow\", \"sweaters\", \"pfft\", \"dumbing\", \"oldure\", \"retweetedgain\", \"active\", \"meretweet\", \"patience\", \"designs\", \"rocksoc\", \"low\", \"august\", \"popular\", \"legal\", \"exist\", \"gamer\", \"burst\", \"especially\", \"shcj\", \"still\", \"ha\", \"who\", \"does\", \"joy\", \"those\", \"crying\", \"down\", \"heat\", \"theyll\", \"people\", \"is\", \"in\", \"with\", \"at\", \"going\", \"i\", \"care\", \"the\", \"level\", \"like\", \"of\", \"thats\", \"so\", \"know\", \"to\", \"and\", \"smile\", \"was\", \"unhappy\", \"we\", \"try\", \"d\", \"all\", \"happy\", \"love\", \"not\", \"this\", \"you\", \"that\", \"for\", \"are\", \"it\", \"suremutual\", \"moreme\", \"mutual\", \"sweet\", \"power\", \"magpasikatonshowtime\", \"lovers\", \"marvoree\", \"tested\", \"dishes\", \"broadcaster\", \"fly\", \"events\", \"rangers\", \"acest\", \"va\", \"uplifting\", \"astept\", \"eveniment\", \"key\", \"cultists\", \"arrivals\", \"uncheck\", \"american\", \"la\", \"hero\", \"taylynnox\", \"csgobounty\", \"satansdaughter\", \"ban\", \"talk\", \"lets\", \"as\", \"stay\", \"dont\", \"early\", \"shes\", \"d\", \"see\", \"unhappy\", \"one\", \"i\", \"to\", \"happy\", \"me\", \"check\", \"dude\", \"this\", \"it\", \"long\", \"want\", \"year\", \"love\", \"are\", \"is\", \"for\", \"you\", \"a\", \"have\", \"and\", \"the\", \"thanks\", \"my\", \"really\", \"great\", \"follow\", \"of\", \"recent\"], \"Freq\": [1013.0, 269.0, 153.0, 77.0, 119.0, 65.0, 123.0, 159.0, 434.0, 136.0, 58.0, 213.0, 223.0, 190.0, 503.0, 74.0, 47.0, 145.0, 61.0, 132.0, 442.0, 52.0, 65.0, 133.0, 233.0, 28.0, 33.0, 511.0, 124.0, 86.0, 28.839648154954872, 9.848171143364914, 9.836980214392003, 9.559406938662079, 9.54787816044098, 9.544683870003983, 69.02725621658549, 14.824954213800845, 19.761239024227937, 5.732603781862202, 16.19276526744113, 5.446444595651852, 5.1544066579239445, 5.154035198350033, 5.153346841419294, 5.152878042850103, 5.152645389556455, 5.147790225231403, 9.615820779145619, 5.149007617418993, 5.141922386157261, 7.179521756818093, 5.646398534352759, 119.10246513513047, 5.059010514071042, 4.868340882229244, 4.86817457659157, 4.8680898960306545, 4.867880813614787, 4.86785811573248, 23.257915887295255, 9.95222696581574, 29.16169618507476, 8.754492017298599, 47.93802171626594, 33.55890279872454, 9.268299614108766, 10.131142150106578, 75.57145377168005, 14.825958158595201, 176.62173439081084, 12.00467686247378, 9.293151176248703, 163.57222599098674, 10.947730766939735, 103.80014652055458, 216.7356668724633, 67.95772501830758, 62.41926713626207, 75.31052590064054, 193.69562621144368, 92.7666640272538, 14.541389570137301, 174.53776150060548, 65.75299939422807, 295.4573981413571, 169.8783960922988, 105.1884188420993, 47.53119884171971, 23.89607034034339, 147.78490601123488, 27.5367600286769, 84.35250318427352, 78.48125244382209, 63.19399125517059, 66.47859831186007, 51.59601941285415, 56.96178831432478, 50.7137701874837, 42.39461569587747, 45.80144211883636, 36.175654350371474, 8.868483006907317, 8.86567539165674, 8.638655880289933, 7.509246273721426, 7.4895782122325825, 7.489006466259069, 7.4878208179269, 9.115327612297628, 8.8588555424501, 4.268674672098016, 4.050502468585859, 4.04985826632538, 4.048977461353282, 4.044441170834401, 4.03901406320195, 3.8246873124471295, 3.824112931699545, 3.8228166228563727, 3.822648524270612, 3.82263482344544, 3.822334986156105, 3.822101545173371, 3.821977447314604, 3.821872846783966, 3.8218399121080724, 3.8218770624224803, 3.8216812987089686, 3.821561416488716, 3.8214984453884075, 3.8213424667633755, 7.634130349071444, 16.0730745703811, 8.236898679456855, 74.82948909886792, 8.393094409872436, 71.81431267039626, 4.005041286324183, 95.92675321941105, 82.06472203088349, 386.7485454781078, 100.45311801740985, 115.3750619037771, 86.33530717766074, 40.231718517513514, 12.305306545677732, 25.879427540136774, 151.5681734306827, 138.41382147956423, 148.31105307659368, 126.54066109190532, 12.959555726645949, 29.056391743513355, 33.6949705153072, 44.79456966685427, 60.716108895197436, 46.38311500312028, 35.70749104824151, 19.77623688094195, 18.35077141278551, 64.22064085805695, 34.69532256439645, 27.675709003295182, 14.802486391694865, 21.48269362645519, 20.470002403434346, 20.815632066132142, 17.81130036773871, 27.09908975165966, 23.442219367625224, 21.69140567366367, 23.18872670029773, 10.123741384460883, 10.012497798072006, 5.465785437323645, 5.465613586633467, 5.465376112768043, 5.4653420707458835, 5.463470579816811, 5.46332333781735, 5.459159957492779, 5.455535917639768, 5.454598326523428, 5.160515039116756, 5.1596229740782436, 5.159574576986499, 5.159189450976768, 5.158642317753148, 5.1580759077217975, 5.430809925496422, 5.157670684614648, 5.15723388035441, 5.157039881842587, 5.156917658678689, 5.156784771748814, 5.156586671788538, 5.15655509063545, 5.155407095213475, 5.154173789663678, 5.1527370522706155, 16.071237020843256, 5.152073027766086, 5.664955055356789, 35.59589035789656, 11.461348408995002, 11.134330900656131, 31.106671281271712, 9.937835030434831, 189.53369472477794, 89.40107656587978, 92.33821895662854, 5.852699678579445, 5.326395250781677, 7.427326948339438, 20.056854007147006, 7.9327205513447785, 41.134109015478366, 13.654675076431346, 13.982515335329875, 73.49376295564454, 27.87877885027397, 42.269009332833534, 22.27590659985952, 17.850112322110814, 35.00369369983337, 33.166697592829, 27.737127945344746, 6.580474636992453, 29.898584717722425, 13.494073018780503, 13.352441800803852, 42.85887964933423, 16.82989342523777, 22.48418963635508, 18.887957603855178, 31.322492780023758, 24.753099436461437, 23.877597687381034, 26.339849767558608, 30.260325908953508, 20.33694356257712, 20.24358311173272, 17.067306589225435, 17.75887149982689, 16.915943454359667, 12.806385936920103, 6.508981437954178, 6.506836559782405, 6.506824060037095, 6.506401803015844, 6.506257665327739, 6.1501313278734, 5.816934210721933, 5.815952590098063, 5.8132745196654145, 5.8131003044651575, 5.812993666012982, 5.811706582863102, 5.811598772559805, 5.811796424782517, 5.811555414068261, 5.811030034148203, 5.810759336538835, 5.81003825748127, 5.809625375269001, 5.809367177404944, 5.809360536915248, 6.113516839541376, 5.809028512430453, 5.808893749551331, 5.80759416665614, 5.807754319642924, 5.807625806636456, 5.80754807384531, 5.805075858593234, 21.552451480394016, 6.508788082518915, 36.31446007028603, 7.852404846116537, 37.26647504738866, 14.853016110557174, 41.05509785184224, 7.359775821239367, 8.733962665077588, 6.570002069620848, 18.181890470171314, 42.876304493624, 45.517694423661055, 42.120988633654505, 21.217261435099697, 16.10310470172449, 75.35284588889049, 7.081103374363825, 78.79632572584673, 8.059110790604333, 22.725868196298485, 37.184348595766195, 14.817540270899475, 28.317788632441047, 12.685610272799389, 50.909165819077515, 28.65672235145568, 22.259348014437396, 12.715320604932892, 30.340781787697072, 16.534541223436978, 10.023110616636139, 24.23170001403847, 16.228525583695998, 48.51770829651218, 18.440382078244, 16.67735081360274, 26.121670879706393, 26.221775090020834, 18.956271566674754, 26.453632865774424, 17.32345171139503, 16.32070964288845, 13.827039705110565, 13.822679328790239, 13.813871608533843, 11.146153490610192, 6.281047117347761, 5.673974548843215, 5.672059386994818, 5.671465982961541, 5.671509466769413, 5.6706371665891, 5.665792845476, 5.665644400752577, 5.665584797946961, 5.665341513539129, 5.665325769401797, 5.663955654593441, 5.662950653827038, 5.658612019410648, 5.657679366703893, 5.656295007199855, 5.655791569665622, 5.653550279258192, 5.651981863291526, 5.652486050546585, 5.6516980939591255, 5.650320107082104, 5.649555391840231, 5.648474294410054, 5.648152664175972, 5.646983474548814, 13.815904851412235, 13.831918888242045, 30.58799790272405, 11.540232246930428, 21.82644545475469, 6.831113538314394, 6.244852095340759, 62.9267078902423, 14.567640926356445, 56.89898244313568, 20.04568156039654, 78.87764221762271, 69.24501313372743, 93.44441196838007, 29.510361183876707, 11.324152958689325, 6.082283381289303, 42.07858813492372, 29.786786251072314, 8.67675902262051, 28.768794322207757, 10.989446093971443, 20.86772795378519, 20.014608631068437, 22.82255753105178, 39.7774640078624, 28.67484830502284, 32.01026629057547, 24.6597559108185, 23.244317479686163, 33.23701348493813, 21.357216182341457, 17.015293490410524, 13.616167228001625, 15.106048438767816, 14.80393193832858, 14.583176641299671, 13.824576122478414], \"Total\": [1013.0, 269.0, 153.0, 77.0, 119.0, 65.0, 123.0, 159.0, 434.0, 136.0, 58.0, 213.0, 223.0, 190.0, 503.0, 74.0, 47.0, 145.0, 61.0, 132.0, 442.0, 52.0, 65.0, 133.0, 233.0, 28.0, 33.0, 511.0, 124.0, 86.0, 30.599446293303732, 10.585436008187092, 10.58467468678909, 10.296344243094458, 10.296932783389959, 10.29696910436654, 74.61285146991908, 16.225848181334445, 22.191975458823677, 6.463141326761367, 18.342585214405783, 6.1736547780365205, 5.884427387829676, 5.88481620679539, 5.884789157456749, 5.88477837452419, 5.884930468626032, 5.882804546748376, 10.990197429412602, 5.885113212703271, 5.8853979770408085, 8.231313389833886, 6.47890246220371, 136.70379121377033, 5.811091561222322, 5.595432089294378, 5.5953008547795875, 5.595422177927008, 5.595459408149106, 5.595452641240837, 27.508038993109356, 11.798653423525026, 36.94045856313383, 10.429326556265233, 65.84909492412274, 45.08227088035646, 11.199031439198471, 12.366135431661627, 115.63197858986925, 18.971802933918784, 306.8143858734009, 15.148713338847923, 11.375551468324172, 286.28370448593836, 13.741028729968564, 177.5763622109567, 464.2394648749986, 119.00930777189264, 111.05521714675118, 139.6169521023662, 442.40708108496733, 181.1775561495314, 19.323674853881563, 434.20197211796943, 131.70520471423382, 1013.7017586091351, 511.837391077342, 269.27414098456853, 94.77560531612217, 37.40866634186245, 503.72463760933096, 46.04947307327225, 233.6950508665993, 213.99420752764107, 173.87781553223493, 194.6613378638446, 133.99048277317831, 190.7295410328377, 159.48523409267685, 145.6022608850058, 223.77592048668362, 101.0124344230981, 9.647039708504995, 9.648070700118183, 9.421159113924038, 8.282950939117498, 8.290681751989684, 8.291365748898423, 8.292222670205412, 10.161307316524043, 9.996298870743251, 5.046245950193709, 4.815511474194073, 4.815789209342963, 4.816135499267795, 4.817902497385242, 4.820157651583103, 4.58786326597964, 4.588145217683505, 4.5887196395319885, 4.588666513115574, 4.588694566519744, 4.588873164573344, 4.588895657430134, 4.588967482436809, 4.588980815003284, 4.589008171306167, 4.589058344005662, 4.589046097000201, 4.5892179572486125, 4.589235241352053, 4.589349858650416, 9.228249504525055, 19.730486363540443, 10.560070148844149, 119.28679036554045, 10.8251737755157, 123.19990034698823, 4.8374853269552265, 190.7295410328377, 159.48523409267685, 1013.7017586091351, 223.77592048668362, 269.27414098456853, 213.99420752764107, 86.1152936117793, 19.683433206310603, 52.18866333238625, 503.72463760933096, 464.2394648749986, 511.837391077342, 434.20197211796943, 21.872973027933874, 64.62692254501641, 79.00058677920096, 124.73034880899515, 306.8143858734009, 194.6613378638446, 132.96470800524241, 47.69905956440944, 42.970448145874414, 442.40708108496733, 145.6022608850058, 133.99048277317831, 31.26587158539382, 74.46675849716382, 67.64446938806294, 75.15040507958238, 56.886013040594094, 233.6950508665993, 173.87781553223493, 139.6169521023662, 286.28370448593836, 10.857715224702988, 10.854782326058634, 6.182777775235983, 6.182809375270545, 6.1827812294532505, 6.182829609857559, 6.1827452978712, 6.1827216870740695, 6.182446157352697, 6.182257876633949, 6.18289495080433, 5.876426226004708, 5.876367603593667, 5.876418233337265, 5.87639094257183, 5.8764145959104415, 5.876227939837661, 6.18702509299712, 5.876345994702721, 5.876264887246628, 5.876386624285691, 5.876302410670549, 5.876275112964234, 5.8762413861284175, 5.87635159683918, 5.876197353630626, 5.876406478589486, 5.876351419372105, 18.328295275067727, 5.876366660736553, 6.483378107759012, 65.4996630101953, 15.899019009666748, 15.351589255416703, 61.329704150964545, 13.955992300460215, 1013.7017586091351, 434.20197211796943, 503.72463760933096, 7.155134771669605, 6.176412378370292, 10.450636571483843, 52.18866333238625, 11.708263358936684, 173.87781553223493, 28.617587443020433, 30.221344825204515, 511.837391077342, 101.0124344230981, 223.77592048668362, 74.46675849716382, 56.886013040594094, 233.6950508665993, 213.99420752764107, 153.95473555505458, 8.947888690725286, 194.6613378638446, 39.940197153415816, 39.27972822740411, 464.2394648749986, 64.62692254501641, 123.19990034698823, 86.1152936117793, 286.28370448593836, 181.1775561495314, 177.5763622109567, 269.27414098456853, 442.40708108496733, 119.00930777189264, 145.6022608850058, 75.15040507958238, 111.05521714675118, 190.7295410328377, 13.508404163561746, 7.202301841061347, 7.201922003947689, 7.201936634109609, 7.201863684835919, 7.201803779395753, 6.854516227768014, 6.511043214579401, 6.510968353616592, 6.510468359658921, 6.510594353363843, 6.51049867228897, 6.510109231807125, 6.510085873449364, 6.510350185158992, 6.510188416589645, 6.510094467070416, 6.509947068172375, 6.5098408290380485, 6.509818488506348, 6.509666630111208, 6.509725823650599, 6.850854894613385, 6.509935134050369, 6.509874222406766, 6.5093701780208715, 6.509589053151821, 6.509786980077297, 6.50975157943526, 6.509029959027871, 28.889275138794314, 7.430071200395257, 58.620653342727906, 9.419755825507169, 65.2202707045561, 21.306251218392735, 77.75079466465704, 8.828661308881955, 11.204113369971738, 7.728378037500127, 32.67368896523182, 132.96470800524241, 145.6022608850058, 133.99048277317831, 51.585069724884036, 33.50771555325035, 442.40708108496733, 9.02576441152082, 503.72463760933096, 11.372646541481828, 69.86927764166873, 181.1775561495314, 36.736672146835254, 131.70520471423382, 28.99937939715449, 511.837391077342, 194.6613378638446, 111.05521714675118, 32.33388331511703, 233.6950508665993, 61.329704150964545, 19.55408654678993, 153.95473555505458, 60.47327584886571, 1013.7017586091351, 94.77560531612217, 74.46675849716382, 286.28370448593836, 306.8143858734009, 119.00930777189264, 464.2394648749986, 91.11500344399296, 173.87781553223493, 14.544567117130958, 14.543725321233545, 14.5434804693759, 12.428818122681927, 7.037202870642962, 6.372820060146706, 6.372417346963056, 6.372390090758753, 6.372628997107203, 6.372303817414705, 6.371629436610916, 6.371698837209463, 6.371681938277465, 6.371598122060305, 6.371634083812695, 6.371457942976227, 6.371481571190666, 6.370937381329085, 6.370308923964391, 6.370287721776909, 6.37066185689976, 6.369893055160816, 6.369669262888727, 6.370266002278322, 6.36964861566137, 6.369784190118859, 6.369847996495625, 6.368721803889697, 6.369722859974246, 6.369403427935642, 15.98073706379826, 16.647744435331223, 47.0342403142946, 14.817274203341738, 33.02459831022256, 8.039100791744676, 7.261665952455994, 153.95473555505458, 23.289447879177935, 233.6950508665993, 48.211211024555, 442.40708108496733, 511.837391077342, 1013.7017586091351, 124.73034880899515, 23.012437277052637, 7.274090672655037, 286.28370448593836, 173.87781553223493, 15.066912491298764, 177.5763622109567, 24.902968245439745, 94.77560531612217, 91.11500344399296, 132.96470800524241, 464.2394648749986, 306.8143858734009, 434.20197211796943, 223.77592048668362, 194.6613378638446, 503.72463760933096, 269.27414098456853, 139.6169521023662, 62.72827516237483, 213.99420752764107, 190.7295410328377, 181.1775561495314, 159.48523409267685], \"Category\": [\"Default\", \"Default\", \"Default\", \"Default\", \"Default\", \"Default\", \"Default\", \"Default\", \"Default\", \"Default\", \"Default\", \"Default\", \"Default\", \"Default\", \"Default\", \"Default\", \"Default\", \"Default\", \"Default\", \"Default\", \"Default\", \"Default\", \"Default\", \"Default\", \"Default\", \"Default\", \"Default\", \"Default\", \"Default\", \"Default\", \"Topic1\", \"Topic1\", \"Topic1\", \"Topic1\", \"Topic1\", \"Topic1\", \"Topic1\", \"Topic1\", \"Topic1\", \"Topic1\", \"Topic1\", \"Topic1\", \"Topic1\", \"Topic1\", \"Topic1\", \"Topic1\", \"Topic1\", \"Topic1\", \"Topic1\", \"Topic1\", \"Topic1\", \"Topic1\", \"Topic1\", \"Topic1\", \"Topic1\", \"Topic1\", \"Topic1\", \"Topic1\", \"Topic1\", \"Topic1\", \"Topic1\", \"Topic1\", \"Topic1\", \"Topic1\", \"Topic1\", \"Topic1\", \"Topic1\", \"Topic1\", \"Topic1\", \"Topic1\", \"Topic1\", \"Topic1\", \"Topic1\", \"Topic1\", \"Topic1\", \"Topic1\", \"Topic1\", \"Topic1\", \"Topic1\", \"Topic1\", \"Topic1\", \"Topic1\", \"Topic1\", \"Topic1\", \"Topic1\", \"Topic1\", \"Topic1\", \"Topic1\", \"Topic1\", \"Topic1\", \"Topic1\", \"Topic1\", \"Topic1\", \"Topic1\", \"Topic1\", \"Topic1\", \"Topic1\", \"Topic1\", \"Topic1\", \"Topic1\", \"Topic1\", \"Topic1\", \"Topic2\", \"Topic2\", \"Topic2\", \"Topic2\", \"Topic2\", \"Topic2\", \"Topic2\", \"Topic2\", \"Topic2\", \"Topic2\", \"Topic2\", \"Topic2\", \"Topic2\", \"Topic2\", \"Topic2\", \"Topic2\", \"Topic2\", \"Topic2\", \"Topic2\", \"Topic2\", \"Topic2\", \"Topic2\", \"Topic2\", \"Topic2\", \"Topic2\", \"Topic2\", \"Topic2\", \"Topic2\", \"Topic2\", \"Topic2\", \"Topic2\", \"Topic2\", \"Topic2\", \"Topic2\", \"Topic2\", \"Topic2\", \"Topic2\", \"Topic2\", \"Topic2\", \"Topic2\", \"Topic2\", \"Topic2\", \"Topic2\", \"Topic2\", \"Topic2\", \"Topic2\", \"Topic2\", \"Topic2\", \"Topic2\", \"Topic2\", \"Topic2\", \"Topic2\", \"Topic2\", \"Topic2\", \"Topic2\", \"Topic2\", \"Topic2\", \"Topic2\", \"Topic2\", \"Topic2\", \"Topic2\", \"Topic2\", \"Topic2\", \"Topic2\", \"Topic2\", \"Topic2\", \"Topic2\", \"Topic2\", \"Topic2\", \"Topic2\", \"Topic2\", \"Topic3\", \"Topic3\", \"Topic3\", \"Topic3\", \"Topic3\", \"Topic3\", \"Topic3\", \"Topic3\", \"Topic3\", \"Topic3\", \"Topic3\", \"Topic3\", \"Topic3\", \"Topic3\", \"Topic3\", \"Topic3\", \"Topic3\", \"Topic3\", \"Topic3\", \"Topic3\", \"Topic3\", \"Topic3\", \"Topic3\", \"Topic3\", \"Topic3\", \"Topic3\", \"Topic3\", \"Topic3\", \"Topic3\", \"Topic3\", \"Topic3\", \"Topic3\", \"Topic3\", \"Topic3\", \"Topic3\", \"Topic3\", \"Topic3\", \"Topic3\", \"Topic3\", \"Topic3\", \"Topic3\", \"Topic3\", \"Topic3\", \"Topic3\", \"Topic3\", \"Topic3\", \"Topic3\", \"Topic3\", \"Topic3\", \"Topic3\", \"Topic3\", \"Topic3\", \"Topic3\", \"Topic3\", \"Topic3\", \"Topic3\", \"Topic3\", \"Topic3\", \"Topic3\", \"Topic3\", \"Topic3\", \"Topic3\", \"Topic3\", \"Topic3\", \"Topic3\", \"Topic3\", \"Topic3\", \"Topic3\", \"Topic3\", \"Topic3\", \"Topic3\", \"Topic3\", \"Topic3\", \"Topic4\", \"Topic4\", \"Topic4\", \"Topic4\", \"Topic4\", \"Topic4\", \"Topic4\", \"Topic4\", \"Topic4\", \"Topic4\", \"Topic4\", \"Topic4\", \"Topic4\", \"Topic4\", \"Topic4\", \"Topic4\", \"Topic4\", \"Topic4\", \"Topic4\", \"Topic4\", \"Topic4\", \"Topic4\", \"Topic4\", \"Topic4\", \"Topic4\", \"Topic4\", \"Topic4\", \"Topic4\", \"Topic4\", \"Topic4\", \"Topic4\", \"Topic4\", \"Topic4\", \"Topic4\", \"Topic4\", \"Topic4\", \"Topic4\", \"Topic4\", \"Topic4\", \"Topic4\", \"Topic4\", \"Topic4\", \"Topic4\", \"Topic4\", \"Topic4\", \"Topic4\", \"Topic4\", \"Topic4\", \"Topic4\", \"Topic4\", \"Topic4\", \"Topic4\", \"Topic4\", \"Topic4\", \"Topic4\", \"Topic4\", \"Topic4\", \"Topic4\", \"Topic4\", \"Topic4\", \"Topic4\", \"Topic4\", \"Topic4\", \"Topic4\", \"Topic4\", \"Topic4\", \"Topic4\", \"Topic4\", \"Topic4\", \"Topic4\", \"Topic4\", \"Topic4\", \"Topic4\", \"Topic5\", \"Topic5\", \"Topic5\", \"Topic5\", \"Topic5\", \"Topic5\", \"Topic5\", \"Topic5\", \"Topic5\", \"Topic5\", \"Topic5\", \"Topic5\", \"Topic5\", \"Topic5\", \"Topic5\", \"Topic5\", \"Topic5\", \"Topic5\", \"Topic5\", \"Topic5\", \"Topic5\", \"Topic5\", \"Topic5\", \"Topic5\", \"Topic5\", \"Topic5\", \"Topic5\", \"Topic5\", \"Topic5\", \"Topic5\", \"Topic5\", \"Topic5\", \"Topic5\", \"Topic5\", \"Topic5\", \"Topic5\", \"Topic5\", \"Topic5\", \"Topic5\", \"Topic5\", \"Topic5\", \"Topic5\", \"Topic5\", \"Topic5\", \"Topic5\", \"Topic5\", \"Topic5\", \"Topic5\", \"Topic5\", \"Topic5\", \"Topic5\", \"Topic5\", \"Topic5\", \"Topic5\", \"Topic5\", \"Topic5\", \"Topic5\", \"Topic5\", \"Topic5\", \"Topic5\", \"Topic5\", \"Topic5\", \"Topic5\", \"Topic5\", \"Topic5\", \"Topic5\", \"Topic5\", \"Topic5\"], \"logprob\": [30.0, 29.0, 28.0, 27.0, 26.0, 25.0, 24.0, 23.0, 22.0, 21.0, 20.0, 19.0, 18.0, 17.0, 16.0, 15.0, 14.0, 13.0, 12.0, 11.0, 10.0, 9.0, 8.0, 7.0, 6.0, 5.0, 4.0, 3.0, 2.0, 1.0, -5.5608, -6.6352, -6.6364, -6.665, -6.6662, -6.6665, -4.688, -6.2262, -5.9388, -7.1764, -6.138, -7.2276, -7.2827, -7.2827, -7.2829, -7.283, -7.283, -7.284, -6.6591, -7.2837, -7.2851, -6.9513, -7.1915, -4.1425, -7.3014, -7.3398, -7.3398, -7.3398, -7.3399, -7.3399, -5.7759, -6.6247, -5.5497, -6.753, -5.0526, -5.4092, -6.6959, -6.6069, -4.5974, -6.2261, -3.7485, -6.4372, -6.6932, -3.8253, -6.5294, -4.2801, -3.5438, -4.7036, -4.7886, -4.6009, -3.6562, -4.3924, -6.2455, -3.7604, -4.7366, -3.234, -3.7874, -4.2668, -5.0611, -5.7488, -3.9268, -5.607, -4.4875, -4.5597, -4.7763, -4.7256, -4.9791, -4.8801, -4.9963, -5.1755, -5.0982, -5.3341, -6.2352, -6.2355, -6.2615, -6.4016, -6.4042, -6.4043, -6.4044, -6.2077, -6.2363, -6.9664, -7.0189, -7.019, -7.0192, -7.0204, -7.0217, -7.0762, -7.0764, -7.0767, -7.0768, -7.0768, -7.0768, -7.0769, -7.0769, -7.077, -7.077, -7.077, -7.077, -7.077, -7.0771, -7.0771, -6.3851, -5.6406, -6.3091, -4.1025, -6.2903, -4.1436, -7.0302, -3.8541, -4.0102, -2.4599, -3.808, -3.6695, -3.9595, -4.7231, -5.9077, -5.1643, -3.3967, -3.4875, -3.4184, -3.5771, -5.8559, -5.0485, -4.9004, -4.6156, -4.3115, -4.5808, -4.8423, -5.4332, -5.508, -4.2554, -4.8711, -5.0972, -5.7229, -5.3505, -5.3987, -5.382, -5.5379, -5.1182, -5.2632, -5.3408, -5.274, -5.8522, -5.8633, -6.4686, -6.4686, -6.4687, -6.4687, -6.469, -6.469, -6.4698, -6.4705, -6.4706, -6.5261, -6.5262, -6.5262, -6.5263, -6.5264, -6.5265, -6.475, -6.5266, -6.5267, -6.5267, -6.5268, -6.5268, -6.5268, -6.5268, -6.5271, -6.5273, -6.5276, -5.3901, -6.5277, -6.4328, -4.5949, -5.7281, -5.7571, -4.7297, -5.8708, -2.9225, -3.674, -3.6416, -6.4002, -6.4944, -6.1619, -5.1685, -6.0961, -4.4503, -5.553, -5.5293, -3.8699, -4.8392, -4.423, -5.0636, -5.2851, -4.6116, -4.6656, -4.8443, -6.283, -4.7693, -5.5649, -5.5754, -4.4092, -5.3439, -5.0543, -5.2286, -4.7228, -4.9582, -4.9942, -4.896, -4.7573, -5.1547, -5.1593, -5.3299, -5.2902, -5.3388, -5.5684, -6.2451, -6.2455, -6.2455, -6.2455, -6.2456, -6.3018, -6.3575, -6.3577, -6.3582, -6.3582, -6.3582, -6.3584, -6.3585, -6.3584, -6.3585, -6.3586, -6.3586, -6.3587, -6.3588, -6.3588, -6.3588, -6.3078, -6.3589, -6.3589, -6.3592, -6.3591, -6.3591, -6.3592, -6.3596, -5.0478, -6.2452, -4.5261, -6.0575, -4.5002, -5.4201, -4.4034, -6.1223, -5.9511, -6.2358, -5.2179, -4.36, -4.3002, -4.3778, -5.0635, -5.3393, -3.7961, -6.1609, -3.7515, -6.0315, -4.9948, -4.5024, -5.4225, -4.7748, -5.5779, -4.1883, -4.7629, -5.0156, -5.5755, -4.7058, -5.3129, -5.8134, -4.9307, -5.3315, -4.2364, -5.2038, -5.3043, -4.8556, -4.8517, -5.1762, -4.8429, -5.2663, -5.3259, -5.4505, -5.4508, -5.4515, -5.6661, -6.2396, -6.3413, -6.3416, -6.3417, -6.3417, -6.3418, -6.3427, -6.3427, -6.3427, -6.3428, -6.3428, -6.343, -6.3432, -6.344, -6.3441, -6.3444, -6.3445, -6.3449, -6.3451, -6.345, -6.3452, -6.3454, -6.3456, -6.3458, -6.3458, -6.346, -5.4513, -5.4502, -4.6565, -5.6313, -4.994, -6.1557, -6.2454, -3.9352, -5.3983, -4.0359, -5.0791, -3.7092, -3.8395, -3.5398, -4.6924, -5.6502, -6.2718, -4.3376, -4.6831, -5.9165, -4.7179, -5.6802, -5.0389, -5.0807, -4.9494, -4.3938, -4.7211, -4.6111, -4.872, -4.9311, -4.5735, -5.0158, -5.243, -5.4659, -5.362, -5.3823, -5.3973, -5.4507], \"loglift\": [30.0, 29.0, 28.0, 27.0, 26.0, 25.0, 24.0, 23.0, 22.0, 21.0, 20.0, 19.0, 18.0, 17.0, 16.0, 15.0, 14.0, 13.0, 12.0, 11.0, 10.0, 9.0, 8.0, 7.0, 6.0, 5.0, 4.0, 3.0, 2.0, 1.0, 1.0227, 1.0097, 1.0086, 1.0076, 1.0064, 1.006, 1.0041, 0.9916, 0.9659, 0.962, 0.9572, 0.9566, 0.9494, 0.9493, 0.9492, 0.9491, 0.949, 0.9484, 0.9483, 0.9483, 0.9468, 0.9452, 0.9444, 0.9441, 0.9433, 0.9427, 0.9427, 0.9426, 0.9426, 0.9426, 0.9141, 0.9117, 0.8454, 0.9068, 0.7644, 0.7867, 0.8927, 0.8825, 0.6566, 0.8353, 0.5297, 0.8493, 0.8797, 0.5222, 0.8546, 0.545, 0.3202, 0.5216, 0.5057, 0.4646, 0.256, 0.4125, 0.7976, 0.1705, 0.3872, -0.1509, -0.021, 0.1419, 0.3918, 0.6337, -0.1444, 0.5677, 0.0629, 0.0788, 0.0698, 0.0075, 0.1276, -0.1266, -0.0639, -0.152, -0.5044, 0.055, 1.5026, 1.5021, 1.5, 1.4886, 1.4851, 1.4849, 1.4847, 1.4781, 1.4659, 1.4194, 1.4137, 1.4135, 1.4132, 1.4117, 1.4099, 1.4048, 1.4046, 1.4041, 1.4041, 1.4041, 1.4039, 1.4039, 1.4038, 1.4038, 1.4038, 1.4038, 1.4037, 1.4037, 1.4036, 1.4036, 1.3971, 1.3817, 1.3383, 1.1204, 1.3322, 1.047, 1.3979, 0.8994, 0.9223, 0.6231, 0.7858, 0.7392, 0.679, 0.8257, 1.117, 0.8853, 0.3857, 0.3766, 0.348, 0.3538, 1.0633, 0.7873, 0.7346, 0.5626, -0.0333, 0.1524, 0.272, 0.7063, 0.7359, -0.3432, 0.1524, 0.0095, 0.839, 0.3436, 0.3914, 0.3029, 0.4255, -0.5678, -0.4171, -0.2753, -0.9266, 1.7673, 1.7565, 1.7141, 1.714, 1.714, 1.714, 1.7136, 1.7136, 1.7129, 1.7123, 1.712, 1.7074, 1.7072, 1.7072, 1.7072, 1.707, 1.707, 1.707, 1.7069, 1.7068, 1.7067, 1.7067, 1.7067, 1.7067, 1.7066, 1.7065, 1.7062, 1.7059, 1.7059, 1.7058, 1.7024, 1.2275, 1.51, 1.5161, 1.1585, 1.4978, 0.1605, 0.2569, 0.1407, 1.6364, 1.6893, 1.4958, 0.881, 1.448, 0.3958, 1.0974, 1.0666, -0.1035, 0.5499, 0.1707, 0.6305, 0.6783, -0.0612, -0.0271, 0.1234, 1.53, -0.0361, 0.7522, 0.7583, -0.5452, 0.4918, 0.1363, 0.3202, -0.3753, -0.1532, -0.1691, -0.4873, -0.8451, 0.0706, -0.1357, 0.355, 0.0042, -0.5853, 1.8327, 1.7849, 1.7846, 1.7846, 1.7845, 1.7845, 1.7777, 1.7734, 1.7732, 1.7728, 1.7728, 1.7728, 1.7726, 1.7726, 1.7726, 1.7726, 1.7725, 1.7725, 1.7724, 1.7723, 1.7723, 1.7723, 1.7722, 1.7722, 1.7722, 1.772, 1.772, 1.772, 1.772, 1.7716, 1.5931, 1.7537, 1.4072, 1.7041, 1.3264, 1.5253, 1.2475, 1.7041, 1.637, 1.7237, 1.3, 0.7543, 0.7233, 0.7289, 0.9977, 1.1533, 0.1161, 1.6434, 0.0309, 1.5417, 0.763, 0.3025, 0.9781, 0.349, 1.0593, -0.4219, -0.0298, 0.2788, 0.9528, -0.1554, 0.5753, 1.2178, 0.0371, 0.5707, -1.1533, 0.2491, 0.3898, -0.5081, -0.5736, 0.049, -0.9789, 0.226, -0.4798, 1.8767, 1.8764, 1.8758, 1.8184, 1.8136, 1.8111, 1.8108, 1.8107, 1.8107, 1.8106, 1.8099, 1.8098, 1.8098, 1.8098, 1.8098, 1.8096, 1.8094, 1.8087, 1.8086, 1.8084, 1.8083, 1.808, 1.8077, 1.8077, 1.8077, 1.8074, 1.8073, 1.8073, 1.807, 1.8069, 1.7817, 1.742, 1.497, 1.6773, 1.5131, 1.7644, 1.7764, 1.0326, 1.4581, 0.5145, 1.0497, 0.2029, -0.0731, -0.4567, 0.4859, 1.2182, 1.7483, 0.0098, 0.163, 1.3754, 0.1072, 1.1092, 0.414, 0.4116, 0.1649, -0.5298, -0.4429, -0.6802, -0.2782, -0.1979, -0.7911, -0.6071, -0.1775, 0.3997, -0.7236, -0.6287, -0.5923, -0.5182]}, \"token.table\": {\"Topic\": [1, 2, 3, 4, 5, 1, 2, 3, 4, 5, 5, 4, 2, 1, 4, 5, 1, 2, 3, 4, 5, 1, 2, 3, 4, 5, 5, 1, 2, 3, 4, 5, 1, 5, 1, 2, 3, 5, 1, 2, 3, 4, 5, 1, 5, 2, 2, 1, 2, 3, 4, 5, 5, 1, 2, 3, 4, 5, 4, 2, 1, 2, 3, 4, 5, 5, 3, 1, 2, 3, 4, 5, 4, 3, 1, 3, 3, 5, 2, 1, 2, 4, 1, 2, 3, 4, 5, 1, 3, 4, 5, 3, 1, 2, 3, 4, 5, 3, 4, 1, 2, 4, 5, 2, 3, 2, 1, 2, 3, 5, 1, 2, 3, 4, 5, 5, 5, 1, 2, 3, 4, 5, 1, 2, 3, 4, 5, 1, 2, 3, 5, 2, 4, 4, 2, 5, 3, 1, 4, 1, 2, 3, 4, 5, 3, 4, 3, 5, 4, 4, 5, 4, 5, 5, 1, 2, 3, 4, 5, 1, 4, 4, 2, 2, 3, 1, 5, 3, 1, 2, 3, 4, 5, 2, 1, 2, 3, 4, 5, 2, 1, 4, 1, 2, 3, 4, 5, 1, 2, 3, 1, 2, 3, 4, 5, 1, 2, 3, 4, 5, 3, 4, 2, 1, 1, 2, 3, 4, 5, 1, 2, 3, 4, 5, 3, 1, 2, 4, 2, 3, 5, 1, 3, 5, 5, 3, 5, 2, 1, 2, 3, 4, 5, 1, 2, 3, 4, 5, 1, 2, 3, 4, 5, 1, 1, 1, 4, 5, 1, 1, 2, 3, 4, 5, 2, 3, 4, 1, 2, 3, 4, 5, 1, 2, 3, 4, 5, 3, 3, 1, 2, 3, 4, 1, 2, 3, 4, 5, 1, 5, 1, 1, 2, 5, 1, 2, 3, 4, 5, 5, 2, 1, 3, 4, 5, 4, 1, 3, 4, 5, 1, 2, 4, 1, 2, 3, 4, 5, 1, 3, 4, 5, 1, 2, 3, 4, 5, 5, 4, 4, 1, 2, 3, 4, 5, 1, 5, 2, 2, 5, 2, 3, 1, 5, 1, 2, 3, 4, 5, 4, 4, 4, 1, 3, 5, 1, 2, 3, 4, 5, 5, 1, 2, 3, 4, 5, 3, 4, 5, 1, 2, 3, 4, 5, 1, 2, 3, 4, 5, 1, 2, 3, 4, 5, 3, 1, 2, 3, 4, 5, 4, 1, 2, 3, 4, 5, 1, 2, 3, 4, 5, 3, 3, 2, 4, 1, 2, 3, 4, 5, 3, 4, 1, 2, 3, 1, 4, 4, 5, 3, 2, 2, 5, 1, 2, 3, 4, 5, 1, 2, 3, 5, 1, 2, 3, 4, 4, 1, 2, 4, 5, 1, 2, 5, 1, 3, 3, 1, 2, 3, 4, 5, 1, 2, 3, 3, 1, 2, 4, 4, 5, 1, 3, 4, 5, 1, 2, 3, 4, 5, 2, 1, 2, 3, 4, 5, 3, 3, 2, 4, 1, 3, 4, 5, 1, 2, 3, 4, 5, 4, 1, 2, 2, 5, 5, 4, 1, 5, 2, 1, 1, 4, 5, 5, 1, 1, 5, 1, 2, 5, 1, 2, 3, 4, 5, 1, 2, 3, 4, 5, 1, 2, 3, 4, 5, 1, 2, 3, 4, 5, 1, 2, 3, 1, 3, 4, 5, 4, 1, 2, 3, 4, 5, 4, 1, 4, 1, 2, 3, 5, 1, 2, 3, 4, 5, 1, 2, 4, 5, 1, 2, 3, 4, 5, 4, 1, 3, 2, 1, 4, 5, 1, 5, 2, 1, 2, 3, 4, 5, 5, 1, 2, 3, 4, 5, 5, 2, 1, 2, 3, 4, 5, 1, 2, 3, 4, 5, 4, 1, 2, 3, 4, 5, 3, 1, 2, 3, 4, 5, 3, 1, 2, 3, 4, 5, 3, 1, 2, 1, 2, 3, 4, 5, 2, 2, 2, 4, 5, 1, 2, 3, 4, 5, 1, 2, 3, 4, 5, 1, 2, 3, 4, 5, 1, 2, 3, 4, 5], \"Freq\": [0.40303824311616393, 0.29249061071858756, 0.20497373507050623, 0.0276369080993941, 0.07369842159838426, 0.32548662566850145, 0.15022459646238528, 0.32548662566850145, 0.050074865487461755, 0.1251871637186544, 0.9416736619014514, 0.921645612110455, 0.8443213971299848, 0.7906470487937767, 0.10541960650583689, 0.05270980325291844, 0.42994198073507667, 0.09921738016963308, 0.03307246005654436, 0.26457968045235486, 0.18189853031099398, 0.2285926103239154, 0.5943407868421801, 0.04571852206478308, 0.04571852206478308, 0.09143704412956616, 0.9418758962112576, 0.33905037705105845, 0.23630783855073773, 0.1541138077504811, 0.14897668082546509, 0.11815391927536886, 0.9244509028042915, 0.061630060186952766, 0.9247736635265581, 0.04020755058811122, 0.02680503372540748, 0.01340251686270374, 0.38412993115358857, 0.15365197246143542, 0.06585084534061518, 0.186577395131743, 0.2195028178020506, 0.860423544754522, 0.9419310415484712, 0.885712804430631, 0.8298483761597019, 0.04252221332024283, 0.06378331998036424, 0.08504442664048566, 0.14882774662084988, 0.6590943064637638, 0.9417766398997786, 0.3101672651666842, 0.09692727036458881, 0.05815636221875329, 0.407094535531273, 0.11631272443750658, 0.875803106663026, 0.8302368099335486, 0.264713567389894, 0.03308919592373675, 0.46324874293231455, 0.132356783694947, 0.132356783694947, 0.9420034494415174, 0.808142835182506, 0.657257628268747, 0.060536886814226705, 0.05188876012648003, 0.12107377362845341, 0.11242564694070672, 0.8753352972881846, 0.8508680798966216, 0.8935816767284753, 0.808697996558539, 0.921004078026328, 0.9416743487190953, 0.871640841135753, 0.8036409263481933, 0.08929343626091037, 0.9216891456452476, 0.21290637067167373, 0.27943961150657176, 0.22621301883865336, 0.11975983350281648, 0.1596797780037553, 0.6415625668307405, 0.2940495097974227, 0.02673177361794752, 0.02673177361794752, 0.8095314389158873, 0.6080417023544963, 0.21715775084089153, 0.021715775084089155, 0.10857887542044577, 0.04343155016817831, 0.11079393992641365, 0.7755575794848956, 0.21727381327773834, 0.21727381327773834, 0.043454762655547666, 0.47800238921102434, 0.7926684587869628, 0.9212529279369709, 0.8716532409380181, 0.13413052653164584, 0.6287368431170899, 0.12574736862341798, 0.10898105280696226, 0.42443296100484385, 0.03858481463680399, 0.012861604878934662, 0.5273258000363211, 0.012861604878934662, 0.9421042690757037, 0.9418173707495848, 0.20135788540856106, 0.05196332526672543, 0.181871638433539, 0.1558899758001763, 0.4092111864754628, 0.29350683489043194, 0.4192954784149028, 0.04192954784149028, 0.1048238696037257, 0.14675341744521597, 0.1302796711613629, 0.06513983558068145, 0.716538191387496, 0.06513983558068145, 0.8716736890617253, 0.9719607871647742, 0.9216846845412853, 0.8716049166443566, 0.9415746913389086, 0.850858958025126, 0.10615986428142463, 0.849278914251397, 0.06056091829528514, 0.15140229573821284, 0.03028045914764257, 0.09084137744292771, 0.6661701012481366, 0.11326745528157973, 0.7928721869710581, 0.850865762200151, 0.8248453683091093, 0.9216468287262246, 0.12439202168318332, 0.8707441517822833, 0.9216941578776063, 0.9418695500666647, 0.9416665894691619, 0.050682987817668765, 0.8109278050827002, 0.050682987817668765, 0.050682987817668765, 0.10136597563533753, 0.8496277104132653, 0.9623638619776316, 0.9217481624042863, 0.8306490434994639, 0.8268758930825842, 0.8508791545462199, 0.9447621486639706, 0.9416640919939883, 0.8087413740034872, 0.2988524991531667, 0.5033305248895439, 0.08913144711585674, 0.03145815780559649, 0.07864539451399125, 0.9552964652405048, 0.4674311781279292, 0.2972603805606186, 0.0926246113341058, 0.0560055789462035, 0.08616242914800538, 0.8306011384883134, 0.8504110666768411, 0.9217171700101272, 0.1392608474236256, 0.4487293972539047, 0.2630482673557372, 0.015473427491513956, 0.1392608474236256, 0.8722870747485486, 0.05451794217178429, 0.05451794217178429, 0.23875098221143803, 0.08953161832928927, 0.08953161832928927, 0.47750196442287607, 0.11937549110571902, 0.3644958473463584, 0.4018800368177798, 0.15420978156961318, 0.0046730236839276715, 0.07009535525891508, 0.8086826704616019, 0.9421174859842019, 0.8716480447803348, 0.8496013278397575, 0.29101261539169, 0.381769092056217, 0.18743185398108847, 0.04833768865828071, 0.09174296010653277, 0.20556277860440017, 0.4468756056617395, 0.1876877543779306, 0.049156316622791345, 0.11171890141543488, 0.8508623828576876, 0.8098930341534595, 0.178505869581811, 0.8032764131181495, 0.49819248740684674, 0.38322499031295904, 0.1149674970938877, 0.8361192161230178, 0.036353009396652945, 0.07270601879330589, 0.9419471399529535, 0.8385586283792581, 0.13975977139654303, 0.8716385149526147, 0.43851016019958544, 0.14466314563285293, 0.06781084951539981, 0.16952712378849952, 0.17856857039055282, 0.13740528708673067, 0.09160352472448711, 0.5496211483469227, 0.10687077884523496, 0.12213803296598283, 0.2884570592840649, 0.24038088273672076, 0.1373605044209833, 0.31592916016826156, 0.020604075663147495, 0.8497003481326202, 0.849648112484096, 0.7921464834394056, 0.0660122069532838, 0.0660122069532838, 0.9711629871111771, 0.15793664585923078, 0.27074853575868135, 0.08272871925959707, 0.32339408437842493, 0.17297823117915753, 0.05456044792994556, 0.872967166879129, 0.05456044792994556, 0.362323392476256, 0.13227679407863313, 0.23579776335756344, 0.09201863935904914, 0.17253494879821715, 0.2513139677757595, 0.2956634915008935, 0.16261492032549144, 0.10348222202531274, 0.19218126947558078, 0.8087022445711236, 0.808691216725151, 0.38331640960597196, 0.030665312768477757, 0.015332656384238879, 0.5673082862168385, 0.26368520481996055, 0.31642224578395267, 0.31642224578395267, 0.05273704096399211, 0.05273704096399211, 0.8935876223467377, 0.9418726848850052, 0.8496442071081737, 0.9012266635347178, 0.04506133317673589, 0.04506133317673589, 0.27586797256719864, 0.20690097942539895, 0.03448349657089983, 0.44828545542169773, 0.03448349657089983, 0.9419671887782795, 0.8716694164800586, 0.06289696234667, 0.69186658581337, 0.06289696234667, 0.12579392469334, 0.9216767935927555, 0.06006819745969413, 0.06006819745969413, 0.06006819745969413, 0.8409547644357178, 0.1758605609261646, 0.0879302804630823, 0.7034422437046584, 0.48662303586953126, 0.1001870956201976, 0.071562211157284, 0.3291861713235064, 0.028624884462913603, 0.06637059852690498, 0.19911179558071496, 0.13274119705380996, 0.5973353867421448, 0.5064594400626294, 0.03165371500391434, 0.05275619167319057, 0.18992229002348604, 0.22157600502740038, 0.9415579164568464, 0.92169780456825, 0.971911501971773, 0.30482487161215205, 0.6096497432243041, 0.05080414526869201, 0.05080414526869201, 0.05080414526869201, 0.8496496693308814, 0.9414984172425976, 0.8716081993190256, 0.8717076157530714, 0.9415619437204898, 0.8716557733976231, 0.9254434802775845, 0.8629512127600808, 0.09588346808445343, 0.2645707345093237, 0.36077827433089604, 0.04810376991078614, 0.08819024483644125, 0.24051884955393069, 0.9216664801061832, 0.9719787173356332, 0.921521911048336, 0.9446941998672235, 0.8508840381886129, 0.962614439614057, 0.8704952433536678, 0.06583577470742026, 0.014630172157204501, 0.014630172157204501, 0.029260344314409003, 0.9626306460465015, 0.5371840515828659, 0.1575739884643073, 0.09311190227436342, 0.09311190227436342, 0.12176171835878292, 0.7823074517294429, 0.11175820738992043, 0.11175820738992043, 0.3291114795472026, 0.4303765501771111, 0.0632906691436928, 0.037974401486215684, 0.13923947211612417, 0.34907711339380454, 0.41889253607256544, 0.06981542267876091, 0.09308723023834788, 0.09308723023834788, 0.0671440532783555, 0.2820050237690931, 0.29543383442476423, 0.22828978114640872, 0.1208592959010399, 0.8508572740816017, 0.5133086127028021, 0.06623336938100673, 0.13798618621043068, 0.2042195555914374, 0.0827917117262584, 0.9216094110694095, 0.3563917670691048, 0.12869702699717672, 0.2771935966093037, 0.14849656961212698, 0.0890979417672762, 0.3111309523496554, 0.041484126979954045, 0.16593650791981618, 0.06222619046993107, 0.41484126979954045, 0.8087660042292424, 0.8508630081173019, 0.965839355901383, 0.9216815214952979, 0.21423965954529112, 0.1224226625973092, 0.0306056656493273, 0.5509019816878914, 0.0612113312986546, 0.8508752018821725, 0.9216435218452509, 0.7762498651744255, 0.20699996404651347, 0.8508601333514544, 0.9712184989062298, 0.9719706323710405, 0.9216681697205951, 0.8526114864515485, 0.8508806352231665, 0.8718119872455886, 0.8305414165793563, 0.9416789767744885, 0.5101367751172279, 0.06376709688965349, 0.09565064533448023, 0.1115924195568936, 0.2231848391137872, 0.31977882021581955, 0.5141541815234745, 0.08151224829030694, 0.08778242123571517, 0.8499347480044477, 0.19137590196728355, 0.6698156568854924, 0.9216323117024459, 0.921706185727901, 0.8935827573890803, 0.8669033055594363, 0.10836291319492954, 0.10836291319492954, 0.89360699804532, 0.8715831486371525, 0.9419562093827516, 0.9260827794526146, 0.8508904141741828, 0.8508688910604124, 0.21468950341541926, 0.042937900683083854, 0.042937900683083854, 0.08587580136616771, 0.6440685102462578, 0.8475543471817947, 0.08475543471817946, 0.8508658987207058, 0.850885985225776, 0.8086600745449145, 0.08086600745449145, 0.08086600745449145, 0.9217963410474308, 0.8262566798422776, 0.07165380851972983, 0.7165380851972982, 0.14330761703945966, 0.07165380851972983, 0.5582808407647488, 0.018009059379508027, 0.16208153441557224, 0.1980996531745883, 0.05402717813852408, 0.8717028526955216, 0.5011191482007329, 0.11389071550016656, 0.08351985803345548, 0.21259600226697759, 0.09111257240013325, 0.8087053328719727, 0.8508584313544443, 0.9003332249639737, 0.10003702499599708, 0.067488796270941, 0.067488796270941, 0.067488796270941, 0.8098655552512919, 0.13845968722934662, 0.034614921807336656, 0.06922984361467331, 0.7615282797614065, 0.034614921807336656, 0.9719627616298806, 0.9099017614767704, 0.09099017614767704, 0.7575707251220901, 0.09469634064026126, 0.9625587263790372, 0.9215883916140193, 0.08045817310457329, 0.8850399041503061, 0.8718655653190845, 0.9283411419701318, 0.06257533654472897, 0.06257533654472897, 0.8760547116262055, 0.9419377045262153, 0.8495602199724158, 0.8935860395064743, 0.9415266450822174, 0.44777258045607293, 0.4797563362029353, 0.03198375574686235, 0.38993718303614344, 0.42707405761101425, 0.0965558738946641, 0.0037136874574870806, 0.07798743660722869, 0.571383879741044, 0.04201352056919441, 0.16805408227677765, 0.15965137816293878, 0.0504162246830333, 0.2722075630593412, 0.21776605044747294, 0.027220756305934117, 0.40831134458901175, 0.08166226891780236, 0.2938113186252029, 0.30175216507453273, 0.18263946833458558, 0.1568317173742637, 0.06551198320697092, 0.8005223055832418, 0.07277475505302199, 0.07277475505302199, 0.10183369846254024, 0.3309595200032558, 0.28004267077198564, 0.28004267077198564, 0.9057527939283192, 0.5728583130307207, 0.08033988536406449, 0.10828419331678256, 0.09081900084633376, 0.1467076167517699, 0.92159268251391, 0.2346729111916095, 0.7040187335748285, 0.12175334523610021, 0.584416057133281, 0.178571573012947, 0.11363645555369353, 0.33213673514976144, 0.28915433413038055, 0.14262342156430932, 0.09964102054492843, 0.13480843956078553, 0.7541767381291057, 0.15527168137952174, 0.022181668768503107, 0.08872667507401243, 0.06988709317241142, 0.06988709317241142, 0.4892096522068799, 0.10483063975861713, 0.27954837268964566, 0.9215748477556379, 0.9477295674577697, 0.03268032991233689, 0.8717129450499365, 0.4091216422131112, 0.511402052766389, 0.0511402052766389, 0.971159561482941, 0.9419641353998532, 0.9329286778062545, 0.3594427853243239, 0.1155351809971041, 0.1497678272184683, 0.12837242333011567, 0.24390760432721978, 0.941696202517424, 0.7850471035825657, 0.08121176933612749, 0.054141179557418324, 0.027070589778709162, 0.054141179557418324, 0.941699694747932, 0.9328289851658897, 0.5856635348597262, 0.09010208228611172, 0.13515312342916758, 0.028156900714409915, 0.1633100241435775, 0.40205501681643424, 0.03092730898587956, 0.06185461797175912, 0.40205501681643424, 0.12370923594351824, 0.9215113158157078, 0.06522125054042172, 0.13044250108084343, 0.5054646916882682, 0.2771903147967923, 0.03261062527021086, 0.8508681055930205, 0.29000017963991026, 0.01705883409646531, 0.01705883409646531, 0.6141180274727512, 0.05117650228939593, 0.8086938633428613, 0.38808726503379054, 0.2089700657874257, 0.02238964990579561, 0.3134550986811385, 0.06716894971738682, 0.8086975447523889, 0.7911704346871428, 0.0879078260763492, 0.7289394038795814, 0.06074495032329845, 0.07593118790412307, 0.04555871274247384, 0.09111742548494768, 0.8442517447659341, 0.8441644994835382, 0.7390181595139232, 0.0923772699392404, 0.0923772699392404, 0.08031171145095292, 0.16062342290190584, 0.08031171145095292, 0.24093513435285874, 0.44171441298024106, 0.5768960262281656, 0.19881727457580847, 0.048889493748149625, 0.08474178916345934, 0.09451968791308928, 0.116123392031635, 0.46449356812654, 0.2206344448601065, 0.069674035218981, 0.116123392031635, 0.08540976311715093, 0.08540976311715093, 0.6832781049372074, 0.08540976311715093, 0.08540976311715093], \"Term\": [\"a\", \"a\", \"a\", \"a\", \"a\", \"about\", \"about\", \"about\", \"about\", \"about\", \"acest\", \"active\", \"adhatter\", \"after\", \"after\", \"after\", \"all\", \"all\", \"all\", \"all\", \"all\", \"am\", \"am\", \"am\", \"am\", \"am\", \"american\", \"and\", \"and\", \"and\", \"and\", \"and\", \"appreciate\", \"appreciate\", \"appreciated\", \"appreciated\", \"appreciated\", \"appreciated\", \"are\", \"are\", \"are\", \"are\", \"are\", \"arms\", \"arrivals\", \"arrived\", \"articles\", \"as\", \"as\", \"as\", \"as\", \"as\", \"astept\", \"at\", \"at\", \"at\", \"at\", \"at\", \"august\", \"avi\", \"back\", \"back\", \"back\", \"back\", \"back\", \"ban\", \"batch\", \"be\", \"be\", \"be\", \"be\", \"be\", \"beginning\", \"billy\", \"blessed\", \"blocks\", \"bluegreen\", \"broadcaster\", \"bucks\", \"buddy\", \"buddy\", \"burst\", \"but\", \"but\", \"but\", \"but\", \"but\", \"by\", \"by\", \"by\", \"by\", \"cake\", \"can\", \"can\", \"can\", \"can\", \"can\", \"care\", \"care\", \"check\", \"check\", \"check\", \"check\", \"client\", \"co\", \"commenting\", \"connect\", \"connect\", \"connect\", \"connect\", \"crying\", \"crying\", \"crying\", \"crying\", \"crying\", \"csgobounty\", \"cultists\", \"d\", \"d\", \"d\", \"d\", \"d\", \"day\", \"day\", \"day\", \"day\", \"day\", \"days\", \"days\", \"days\", \"days\", \"december\", \"delayed\", \"designs\", \"difference\", \"dishes\", \"displayport\", \"does\", \"does\", \"dont\", \"dont\", \"dont\", \"dont\", \"dont\", \"down\", \"down\", \"dual\", \"dude\", \"dumbing\", \"early\", \"early\", \"especially\", \"eveniment\", \"events\", \"everyone\", \"everyone\", \"everyone\", \"everyone\", \"everyone\", \"exam\", \"exams\", \"exist\", \"ffsits\", \"five\", \"fixes\", \"fl\", \"fly\", \"fm\", \"follow\", \"follow\", \"follow\", \"follow\", \"follow\", \"follower\", \"for\", \"for\", \"for\", \"for\", \"for\", \"freelegitfree\", \"full\", \"gamer\", \"get\", \"get\", \"get\", \"get\", \"get\", \"give\", \"give\", \"give\", \"going\", \"going\", \"going\", \"going\", \"going\", \"great\", \"great\", \"great\", \"great\", \"great\", \"groovy\", \"ha\", \"hairs\", \"happiness\", \"happy\", \"happy\", \"happy\", \"happy\", \"happy\", \"have\", \"have\", \"have\", \"have\", \"have\", \"hdmi\", \"head\", \"heat\", \"heat\", \"hellooo\", \"hellooo\", \"hellooo\", \"her\", \"her\", \"her\", \"hero\", \"himself\", \"himself\", \"hobby\", \"i\", \"i\", \"i\", \"i\", \"i\", \"im\", \"im\", \"im\", \"im\", \"im\", \"in\", \"in\", \"in\", \"in\", \"in\", \"information\", \"inspired\", \"instant\", \"instant\", \"instant\", \"iris\", \"is\", \"is\", \"is\", \"is\", \"is\", \"isnt\", \"isnt\", \"isnt\", \"it\", \"it\", \"it\", \"it\", \"it\", \"its\", \"its\", \"its\", \"its\", \"its\", \"jaebum\", \"jinyoung\", \"joy\", \"joy\", \"joy\", \"joy\", \"just\", \"just\", \"just\", \"just\", \"just\", \"keem\", \"key\", \"kills\", \"kind\", \"kind\", \"kind\", \"know\", \"know\", \"know\", \"know\", \"know\", \"la\", \"ladylike\", \"last\", \"last\", \"last\", \"last\", \"legal\", \"lets\", \"lets\", \"lets\", \"lets\", \"level\", \"level\", \"level\", \"like\", \"like\", \"like\", \"like\", \"like\", \"long\", \"long\", \"long\", \"long\", \"love\", \"love\", \"love\", \"love\", \"love\", \"lovers\", \"low\", \"luckily\", \"made\", \"made\", \"made\", \"made\", \"made\", \"magical\", \"magpasikatonshowtime\", \"maja\", \"maple\", \"marvoree\", \"massive\", \"mate\", \"mclisse\", \"mclisse\", \"me\", \"me\", \"me\", \"me\", \"me\", \"meretweet\", \"ministers\", \"minor\", \"minutes\", \"monger\", \"moreme\", \"much\", \"much\", \"much\", \"much\", \"much\", \"mutual\", \"my\", \"my\", \"my\", \"my\", \"my\", \"name\", \"name\", \"name\", \"new\", \"new\", \"new\", \"new\", \"new\", \"no\", \"no\", \"no\", \"no\", \"no\", \"not\", \"not\", \"not\", \"not\", \"not\", \"o\", \"of\", \"of\", \"of\", \"of\", \"of\", \"oldure\", \"on\", \"on\", \"on\", \"on\", \"on\", \"one\", \"one\", \"one\", \"one\", \"one\", \"p\", \"palestine\", \"pancakes\", \"patience\", \"people\", \"people\", \"people\", \"people\", \"people\", \"petronas\", \"pfft\", \"photo\", \"photo\", \"pinched\", \"player\", \"pmln\", \"popular\", \"power\", \"prettier\", \"protective\", \"quickerbe\", \"rangers\", \"really\", \"really\", \"really\", \"really\", \"really\", \"recent\", \"recent\", \"recent\", \"recent\", \"relax\", \"released\", \"released\", \"retweetedgain\", \"rocksoc\", \"roshe\", \"sa\", \"sa\", \"sa\", \"safe\", \"salvador\", \"satansdaughter\", \"saying\", \"scored\", \"screens\", \"see\", \"see\", \"see\", \"see\", \"see\", \"seeing\", \"seeing\", \"seminar\", \"setup\", \"sharing\", \"sharing\", \"sharing\", \"shcj\", \"shes\", \"shit\", \"shit\", \"shit\", \"shit\", \"smile\", \"smile\", \"smile\", \"smile\", \"smile\", \"snapping\", \"so\", \"so\", \"so\", \"so\", \"so\", \"son\", \"sorted\", \"stats\", \"stats\", \"stay\", \"stay\", \"stay\", \"stay\", \"still\", \"still\", \"still\", \"still\", \"still\", \"studied\", \"superstar\", \"superstar\", \"sure\", \"sure\", \"suremutual\", \"sweaters\", \"sweet\", \"sweet\", \"syrup\", \"taehyung\", \"talk\", \"talk\", \"talk\", \"taylynnox\", \"teaser\", \"ten\", \"tested\", \"thank\", \"thank\", \"thank\", \"thanks\", \"thanks\", \"thanks\", \"thanks\", \"thanks\", \"that\", \"that\", \"that\", \"that\", \"that\", \"thats\", \"thats\", \"thats\", \"thats\", \"thats\", \"the\", \"the\", \"the\", \"the\", \"the\", \"these\", \"these\", \"these\", \"they\", \"they\", \"they\", \"they\", \"theyll\", \"this\", \"this\", \"this\", \"this\", \"this\", \"thisfollow\", \"those\", \"those\", \"thursday\", \"thursday\", \"thursday\", \"thursday\", \"to\", \"to\", \"to\", \"to\", \"to\", \"today\", \"today\", \"today\", \"today\", \"too\", \"too\", \"too\", \"too\", \"too\", \"trainfollow\", \"trick\", \"trick\", \"trust\", \"try\", \"try\", \"try\", \"tune\", \"uncheck\", \"unfollowers\", \"unhappy\", \"unhappy\", \"unhappy\", \"unhappy\", \"unhappy\", \"uplifting\", \"us\", \"us\", \"us\", \"us\", \"us\", \"va\", \"via\", \"want\", \"want\", \"want\", \"want\", \"want\", \"was\", \"was\", \"was\", \"was\", \"was\", \"watching\", \"we\", \"we\", \"we\", \"we\", \"we\", \"whattay\", \"who\", \"who\", \"who\", \"who\", \"who\", \"wipe\", \"with\", \"with\", \"with\", \"with\", \"with\", \"witness\", \"words\", \"words\", \"would\", \"would\", \"would\", \"would\", \"would\", \"xbox\", \"xboxmadhatter\", \"yeah\", \"yeah\", \"yeah\", \"year\", \"year\", \"year\", \"year\", \"year\", \"you\", \"you\", \"you\", \"you\", \"you\", \"your\", \"your\", \"your\", \"your\", \"your\", \"youre\", \"youre\", \"youre\", \"youre\", \"youre\"]}, \"R\": 30, \"lambda.step\": 0.01, \"plot.opts\": {\"xlab\": \"PC1\", \"ylab\": \"PC2\"}, \"topic.order\": [2, 3, 4, 1, 5]};\n",
              "\n",
              "function LDAvis_load_lib(url, callback){\n",
              "  var s = document.createElement('script');\n",
              "  s.src = url;\n",
              "  s.async = true;\n",
              "  s.onreadystatechange = s.onload = callback;\n",
              "  s.onerror = function(){console.warn(\"failed to load library \" + url);};\n",
              "  document.getElementsByTagName(\"head\")[0].appendChild(s);\n",
              "}\n",
              "\n",
              "if(typeof(LDAvis) !== \"undefined\"){\n",
              "   // already loaded: just create the visualization\n",
              "   !function(LDAvis){\n",
              "       new LDAvis(\"#\" + \"ldavis_el600140640872348368396369339\", ldavis_el600140640872348368396369339_data);\n",
              "   }(LDAvis);\n",
              "}else if(typeof define === \"function\" && define.amd){\n",
              "   // require.js is available: use it to load d3/LDAvis\n",
              "   require.config({paths: {d3: \"https://d3js.org/d3.v5\"}});\n",
              "   require([\"d3\"], function(d3){\n",
              "      window.d3 = d3;\n",
              "      LDAvis_load_lib(\"https://cdn.jsdelivr.net/gh/bmabey/pyLDAvis@3.3.1/pyLDAvis/js/ldavis.v3.0.0.js\", function(){\n",
              "        new LDAvis(\"#\" + \"ldavis_el600140640872348368396369339\", ldavis_el600140640872348368396369339_data);\n",
              "      });\n",
              "    });\n",
              "}else{\n",
              "    // require.js not available: dynamically load d3 & LDAvis\n",
              "    LDAvis_load_lib(\"https://d3js.org/d3.v5.js\", function(){\n",
              "         LDAvis_load_lib(\"https://cdn.jsdelivr.net/gh/bmabey/pyLDAvis@3.3.1/pyLDAvis/js/ldavis.v3.0.0.js\", function(){\n",
              "                 new LDAvis(\"#\" + \"ldavis_el600140640872348368396369339\", ldavis_el600140640872348368396369339_data);\n",
              "            })\n",
              "         });\n",
              "}\n",
              "</script>"
            ],
            "text/plain": [
              "PreparedData(topic_coordinates=              x         y  topics  cluster       Freq\n",
              "topic                                                \n",
              "1      0.011809 -0.082780       1        1  33.895200\n",
              "2      0.100767 -0.032278       2        1  20.459715\n",
              "3      0.038068  0.090793       3        1  15.924414\n",
              "0     -0.132894 -0.010461       4        1  15.166221\n",
              "4     -0.017750  0.034726       5        1  14.554450, topic_info=         Term         Freq        Total Category  logprob  loglift\n",
              "453     happy  1013.000000  1013.000000  Default  30.0000  30.0000\n",
              "941    thanks   269.000000   269.000000  Default  29.0000  29.0000\n",
              "530         d   153.000000   153.000000  Default  28.0000  28.0000\n",
              "140    crying    77.000000    77.000000  Default  27.0000  27.0000\n",
              "2470  connect   119.000000   119.000000  Default  26.0000  26.0000\n",
              "...       ...          ...          ...      ...      ...      ...\n",
              "184    really    13.616167    62.728275   Topic5  -5.4659   0.3997\n",
              "906     great    15.106048   213.994208   Topic5  -5.3620  -0.7236\n",
              "1188   follow    14.803932   190.729541   Topic5  -5.3823  -0.6287\n",
              "147        of    14.583177   181.177556   Topic5  -5.3973  -0.5923\n",
              "2442   recent    13.824576   159.485234   Topic5  -5.4507  -0.5182\n",
              "\n",
              "[387 rows x 6 columns], token_table=      Topic      Freq   Term\n",
              "term                        \n",
              "54        1  0.403038      a\n",
              "54        2  0.292491      a\n",
              "54        3  0.204974      a\n",
              "54        4  0.027637      a\n",
              "54        5  0.073698      a\n",
              "...     ...       ...    ...\n",
              "88        1  0.085410  youre\n",
              "88        2  0.085410  youre\n",
              "88        3  0.683278  youre\n",
              "88        4  0.085410  youre\n",
              "88        5  0.085410  youre\n",
              "\n",
              "[638 rows x 3 columns], R=30, lambda_step=0.01, plot_opts={'xlab': 'PC1', 'ylab': 'PC2'}, topic_order=[2, 3, 4, 1, 5])"
            ]
          },
          "metadata": {},
          "execution_count": 24
        }
      ]
    }
  ]
}
